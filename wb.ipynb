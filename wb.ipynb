{
 "cells": [
  {
   "cell_type": "code",
   "execution_count": 8,
   "metadata": {},
   "outputs": [],
   "source": [
    "import torch\n",
    "from torchvision import datasets, transforms, models\n",
    "import torch.nn as nn\n",
    "import torch.optim as optim\n",
    "from torch.utils.tensorboard import SummaryWriter\n",
    "import os\n",
    "import time"
   ]
  },
  {
   "cell_type": "code",
   "execution_count": 3,
   "metadata": {},
   "outputs": [],
   "source": [
    "import os\n",
    "import random\n",
    "import shutil\n",
    "\n",
    "# Define the source directories\n",
    "source_dir_chair = \"./dataset/chair/\"\n",
    "source_dir_monitor = \"./dataset/monitor/\"\n",
    "\n",
    "# Define the target folders\n",
    "target_dir_chair_train = \"./dataset/chair/train/\"\n",
    "target_dir_chair_test = \"./dataset/chair/test/\"\n",
    "target_dir_monitor_train = \"./dataset/monitor/train/\"\n",
    "target_dir_monitor_test = \"./dataset/monitor/test/\"\n",
    "\n",
    "# Check if the target folders exist, if not create them\n",
    "if not os.path.exists(target_dir_chair_train):\n",
    "    os.makedirs(target_dir_chair_train)\n",
    "if not os.path.exists(target_dir_chair_test):\n",
    "    os.makedirs(target_dir_chair_test)\n",
    "if not os.path.exists(target_dir_monitor_train):\n",
    "    os.makedirs(target_dir_monitor_train)\n",
    "if not os.path.exists(target_dir_monitor_test):\n",
    "    os.makedirs(target_dir_monitor_test)\n",
    "\n",
    "# Get the list of files in the source folders\n",
    "files_chair = [f for f in os.listdir(source_dir_chair) if os.path.isfile(os.path.join(source_dir_chair, f))]\n",
    "files_monitor = [f for f in os.listdir(source_dir_monitor) if os.path.isfile(os.path.join(source_dir_monitor, f))]\n",
    "\n",
    "random.shuffle(files_chair)\n",
    "random.shuffle(files_monitor)\n",
    "\n",
    "# Split the files into train and test\n",
    "split_ratio = 0.8\n",
    "split_index_chair = int(len(files_chair) * split_ratio)\n",
    "split_index_monitor = int(len(files_monitor) * split_ratio)\n",
    "\n",
    "train_files_chair = files_chair[:split_index_chair]\n",
    "test_files_chair = files_chair[split_index_chair:]\n",
    "\n",
    "train_files_monitor = files_monitor[:split_index_monitor]\n",
    "test_files_monitor = files_monitor[split_index_monitor:]\n",
    "\n",
    "# Copy the files to the target folders\n",
    "for file in train_files_chair:\n",
    "    shutil.copy(os.path.join(source_dir_chair, file), os.path.join(target_dir_chair_train, file))\n",
    "for file in test_files_chair:\n",
    "    shutil.copy(os.path.join(source_dir_chair, file), os.path.join(target_dir_chair_test, file))\n",
    "for file in train_files_monitor:\n",
    "    shutil.copy(os.path.join(source_dir_monitor, file), os.path.join(target_dir_monitor_train, file))\n",
    "for file in test_files_monitor:\n",
    "    shutil.copy(os.path.join(source_dir_monitor, file), os.path.join(target_dir_monitor_test, file))"
   ]
  },
  {
   "cell_type": "code",
   "execution_count": 9,
   "metadata": {},
   "outputs": [],
   "source": [
    "from torch.utils.tensorboard import SummaryWriter\n",
    "import matplotlib.pyplot as plt\n",
    "import numpy as np\n",
    "from torchvision.utils import make_grid"
   ]
  },
  {
   "cell_type": "code",
   "execution_count": 10,
   "metadata": {},
   "outputs": [],
   "source": [
    "# --- Image Settings ---\n",
    "img_width, img_height = 224, 224  # Adjust if needed\n",
    "batch_size = 32\n",
    "epochs = 10  # Adjust as needed\n",
    "device = torch.device(\"cpu\")\n",
    "\n",
    "\n",
    "# --- Data Transformations ---\n",
    "data_transforms = {\n",
    "    'train': transforms.Compose([\n",
    "        transforms.Resize((img_width, img_height)),\n",
    "        transforms.RandomHorizontalFlip(),  # Augmentation\n",
    "        transforms.ToTensor(),\n",
    "        transforms.Normalize([0.485, 0.456, 0.406], [0.229, 0.224, 0.225])\n",
    "    ]),\n",
    "    'test': transforms.Compose([\n",
    "        transforms.Resize((img_width, img_height)),\n",
    "        transforms.ToTensor(),\n",
    "        transforms.Normalize([0.485, 0.456, 0.406], [0.229, 0.224, 0.225])\n",
    "    ]),\n",
    "}\n",
    "\n",
    "\n",
    "# --- Data Loaders --- (Corrected)\n",
    "train_dir = \"train\"  # Path to your main training directory\n",
    "test_dir = \"test\"   # Path to your main testing directory\n",
    "\n",
    "train_dataset = datasets.ImageFolder(train_dir, data_transforms['train'])\n",
    "test_dataset = datasets.ImageFolder(test_dir, data_transforms['test'])\n",
    "\n",
    "dataloaders = {\n",
    "    'train': torch.utils.data.DataLoader(train_dataset, batch_size=batch_size, shuffle=True, num_workers=4),\n",
    "    'test': torch.utils.data.DataLoader(test_dataset, batch_size=batch_size, shuffle=False, num_workers=4)\n",
    "}\n",
    "\n",
    "dataset_sizes = {x: len(dataloaders[x].dataset) for x in ['train', 'test']}\n",
    "class_names = train_dataset.classes"
   ]
  },
  {
   "cell_type": "code",
   "execution_count": 4,
   "metadata": {},
   "outputs": [],
   "source": [
    "# --- TensorBoard Setup ---\n",
    "writer = SummaryWriter()"
   ]
  },
  {
   "cell_type": "code",
   "execution_count": 5,
   "metadata": {},
   "outputs": [],
   "source": [
    "\n",
    "# --- Model Definitions ---\n",
    "\n",
    "class VGG3Block(nn.Module):\n",
    "    def __init__(self, num_classes=2):\n",
    "        super(VGG3Block, self).__init__()\n",
    "        self.features = nn.Sequential(\n",
    "            nn.Conv2d(3, 64, kernel_size=3, padding=1),\n",
    "            nn.ReLU(inplace=True),\n",
    "            nn.Conv2d(64, 64, kernel_size=3, padding=1),\n",
    "            nn.ReLU(inplace=True),\n",
    "            nn.MaxPool2d(kernel_size=2, stride=2),  # Output: 64x64x64 after this layer if input is 128x128\n",
    "\n",
    "\n",
    "            nn.Conv2d(64, 128, kernel_size=3, padding=1),\n",
    "            nn.ReLU(inplace=True),\n",
    "            nn.Conv2d(128, 128, kernel_size=3, padding=1),\n",
    "            nn.ReLU(inplace=True),\n",
    "            nn.MaxPool2d(kernel_size=2, stride=2),  # Output: 128x32x32 after this layer\n",
    "\n",
    "\n",
    "\n",
    "            nn.Conv2d(128, 256, kernel_size=3, padding=1),\n",
    "            nn.ReLU(inplace=True),\n",
    "            nn.Conv2d(256, 256, kernel_size=3, padding=1),\n",
    "            nn.ReLU(inplace=True),\n",
    "            nn.MaxPool2d(kernel_size=2, stride=2),  # Output: 256x16x16 after this layer\n",
    "        )\n",
    "\n",
    "\n",
    "        self.classifier = nn.Sequential(\n",
    "            nn.Linear(256 * (img_width//8) * (img_height//8), 4096),\n",
    "            nn.ReLU(inplace=True),\n",
    "            nn.Dropout(),\n",
    "            nn.Linear(4096, 4096),\n",
    "            nn.ReLU(inplace=True),\n",
    "            nn.Dropout(),\n",
    "            nn.Linear(4096, num_classes),\n",
    "        )\n",
    "\n",
    "\n",
    "    def forward(self, x):\n",
    "        x = self.features(x)\n",
    "        x = x.view(x.size(0), -1)\n",
    "        x = self.classifier(x)\n",
    "        return x\n",
    "\n",
    "\n",
    "class VGG1Block(nn.Module):\n",
    "    def __init__(self, num_classes=2):  # Make sure num_classes is 2\n",
    "        super(VGG1Block, self).__init__()\n",
    "        self.features = nn.Sequential(\n",
    "            nn.Conv2d(3, 64, kernel_size=3, padding=1),\n",
    "            nn.ReLU(inplace=True),\n",
    "            nn.MaxPool2d(kernel_size=2, stride=2),\n",
    "        )\n",
    "        self.classifier = nn.Sequential(\n",
    "            nn.Linear(64 * (img_width // 2) * (img_height // 2), 4096),\n",
    "            nn.ReLU(inplace=True),\n",
    "            nn.Dropout(),\n",
    "            nn.Linear(4096, num_classes),  # Output layer with num_classes\n",
    "        )\n",
    "\n",
    "    def forward(self, x):\n",
    "        x = self.features(x)\n",
    "        x = x.view(x.size(0), -1)  # Flatten the feature maps\n",
    "        x = self.classifier(x)\n",
    "        return x\n",
    "\n",
    "\n",
    "\n",
    "def initialize_model(model_name, num_classes, tune_all_layers=False):\n",
    "\n",
    "    if model_name == \"vgg16\":\n",
    "        model = models.vgg16(pretrained=True)\n",
    "        num_ftrs = model.classifier[6].in_features  # .classifier if using vgg16/19\n",
    "        model.classifier[6] = nn.Linear(num_ftrs, num_classes)\n",
    "    elif model_name == \"vgg19\":\n",
    "        model = models.vgg19(pretrained=True)\n",
    "        num_ftrs = model.classifier[6].in_features\n",
    "        model.classifier[6] = nn.Linear(num_ftrs, num_classes)\n",
    "    elif model_name == \"vgg3block\":\n",
    "        model = VGG3Block(num_classes)\n",
    "    elif model_name == \"vgg1block\": # Ensure VGG1Block is defined\n",
    "        model = VGG1Block(num_classes)  # Instantiate your VGG1Block model\n",
    "    else:\n",
    "        raise ValueError(\"Invalid model name.\")\n",
    "\n",
    "\n",
    "    if not tune_all_layers and 'vgg' in model_name:  # Freeze convolution layers for vgg\n",
    "        for param in model.features.parameters():\n",
    "            param.requires_grad = False\n",
    "\n",
    "    return model.to(device)"
   ]
  },
  {
   "cell_type": "code",
   "execution_count": 6,
   "metadata": {},
   "outputs": [],
   "source": [
    "def train_model(model, criterion, optimizer, num_epochs=25):\n",
    "    since = time.time()\n",
    "    best_acc = 0.0\n",
    "\n",
    "    for epoch in range(num_epochs):\n",
    "        print(f'Epoch {epoch+1}/{num_epochs}')\n",
    "        print('-' * 10)\n",
    "\n",
    "        for phase in ['train', 'test']:\n",
    "            if phase == 'train':\n",
    "                model.train()\n",
    "            else:\n",
    "                model.eval()\n",
    "\n",
    "            running_loss = 0.0\n",
    "            running_corrects = 0\n",
    "\n",
    "            for inputs, labels in dataloaders[phase]:\n",
    "                inputs = inputs.to(device)\n",
    "                labels = labels.to(device)\n",
    "                optimizer.zero_grad()\n",
    "\n",
    "                with torch.set_grad_enabled(phase == 'train'):\n",
    "                    outputs = model(inputs)\n",
    "                    _, preds = torch.max(outputs, 1)\n",
    "                    loss = criterion(outputs, labels)\n",
    "\n",
    "                    if phase == 'train':\n",
    "                        loss.backward()\n",
    "                        optimizer.step()\n",
    "\n",
    "                running_loss += loss.item() * inputs.size(0)\n",
    "                running_corrects += torch.sum(preds == labels.data)\n",
    "\n",
    "\n",
    "        epoch_loss = running_loss / len(dataloaders[phase].dataset)\n",
    "        epoch_acc = running_corrects.double() / len(dataloaders[phase].dataset)\n",
    "\n",
    "\n",
    "        time_elapsed = time.time() - since\n",
    "        print(f'{phase} Loss: {epoch_loss:.4f} Acc: {epoch_acc:.4f}')\n",
    "\n",
    "\n",
    "        # Log epoch metrics to Tensorboard:\n",
    "        writer.add_scalar(f'Loss/{phase}', epoch_loss, epoch)\n",
    "        writer.add_scalar(f'Accuracy/{phase}', epoch_acc, epoch)\n",
    "\n",
    "\n",
    "    time_elapsed = time.time() - since\n",
    "    print(f'Training complete in {time_elapsed // 60:.0f}m {time_elapsed % 60:.0f}s')\n",
    "\n",
    "\n",
    "\n",
    "    num_params = sum(p.numel() for p in model.parameters())\n",
    "\n",
    "\n",
    "    return model, time_elapsed, num_params, best_acc\n",
    "        \n",
    "    #return model.to(device)\n",
    "\n",
    "\n",
    "    '''\n",
    "            # --- Image Logging (Only for Test Phase) ---\n",
    "            if phase == 'test':\n",
    "                # Get a batch of test images (you can modify how many images to log)\n",
    "                try: # Handle StopIteration if the DataLoader is exhausted.\n",
    "                    test_iter = iter(dataloaders['test'])\n",
    "                    images, labels = next(test_iter)\n",
    "                    images = images.to(device)\n",
    "                    labels = labels.to(device)\n",
    "\n",
    "\n",
    "                    # Get predictions\n",
    "                    with torch.no_grad():\n",
    "                        outputs = model(images)\n",
    "                        _, predicted = torch.max(outputs, 1)\n",
    "\n",
    "\n",
    "                    img_grid = make_grid(images, nrow=8, padding=2, normalize=True, scale_each=True)\n",
    "                    fig, ax = plt.subplots(figsize=(10, 10))\n",
    "                    ax.imshow(img_grid.permute(1, 2, 0).cpu().numpy())\n",
    "                    ax.axis('off')\n",
    "\n",
    "\n",
    "\n",
    "                    predicted_class_names = [class_names[p] for p in predicted.tolist()]\n",
    "                    true_class_names = [class_names[l] for l in labels.tolist()]\n",
    "                    titles = [f\"Pred: {p}, True: {t}\" for p, t in zip(predicted_class_names, true_class_names)]\n",
    "\n",
    "\n",
    "\n",
    "                    for i, title in enumerate(titles):\n",
    "                        plt.text(img_grid.shape[2] * (i % 8) + img_grid.shape[2] // 2,\n",
    "                                 img_grid.shape[1] * (i // 8) + 10,\n",
    "                                 title, ha='center', va='bottom', fontsize=6)  # Adjust fontsize as needed\n",
    "\n",
    "\n",
    "                    writer.add_figure('Test Images with Predictions', fig, global_step=epoch)\n",
    "                    plt.close(fig)  # Important to free memory!\n",
    "\n",
    "                except StopIteration:\n",
    "                    pass # Data loader exhausted. It can happen during last epoch. Handle gracefully.'''\n"
   ]
  },
  {
   "cell_type": "code",
   "execution_count": 7,
   "metadata": {},
   "outputs": [
    {
     "name": "stdout",
     "output_type": "stream",
     "text": [
      "Training vgg1block...\n",
      "Epoch 1/10\n",
      "----------\n"
     ]
    },
    {
     "name": "stderr",
     "output_type": "stream",
     "text": [
      "/opt/homebrew/lib/python3.11/site-packages/PIL/Image.py:981: UserWarning: Palette images with Transparency expressed in bytes should be converted to RGBA images\n",
      "  warnings.warn(\n",
      "Python(93727) MallocStackLogging: can't turn off malloc stack logging because it was not enabled.\n",
      "Python(93740) MallocStackLogging: can't turn off malloc stack logging because it was not enabled.\n",
      "Python(93741) MallocStackLogging: can't turn off malloc stack logging because it was not enabled.\n",
      "Python(93742) MallocStackLogging: can't turn off malloc stack logging because it was not enabled.\n"
     ]
    },
    {
     "name": "stdout",
     "output_type": "stream",
     "text": [
      "test Loss: 1.2307 Acc: 0.6375\n",
      "Epoch 2/10\n",
      "----------\n"
     ]
    },
    {
     "name": "stderr",
     "output_type": "stream",
     "text": [
      "Python(95072) MallocStackLogging: can't turn off malloc stack logging because it was not enabled.\n",
      "Python(95073) MallocStackLogging: can't turn off malloc stack logging because it was not enabled.\n",
      "Python(95074) MallocStackLogging: can't turn off malloc stack logging because it was not enabled.\n",
      "Python(95075) MallocStackLogging: can't turn off malloc stack logging because it was not enabled.\n",
      "/opt/homebrew/lib/python3.11/site-packages/PIL/Image.py:981: UserWarning: Palette images with Transparency expressed in bytes should be converted to RGBA images\n",
      "  warnings.warn(\n",
      "/opt/homebrew/lib/python3.11/site-packages/PIL/Image.py:981: UserWarning: Palette images with Transparency expressed in bytes should be converted to RGBA images\n",
      "  warnings.warn(\n",
      "Python(8407) MallocStackLogging: can't turn off malloc stack logging because it was not enabled.\n",
      "Python(8408) MallocStackLogging: can't turn off malloc stack logging because it was not enabled.\n",
      "Python(8409) MallocStackLogging: can't turn off malloc stack logging because it was not enabled.\n",
      "Python(8410) MallocStackLogging: can't turn off malloc stack logging because it was not enabled.\n"
     ]
    },
    {
     "name": "stdout",
     "output_type": "stream",
     "text": [
      "test Loss: 1.2127 Acc: 0.6625\n",
      "Epoch 3/10\n",
      "----------\n"
     ]
    },
    {
     "name": "stderr",
     "output_type": "stream",
     "text": [
      "Python(9624) MallocStackLogging: can't turn off malloc stack logging because it was not enabled.\n",
      "Python(9625) MallocStackLogging: can't turn off malloc stack logging because it was not enabled.\n",
      "Python(9626) MallocStackLogging: can't turn off malloc stack logging because it was not enabled.\n",
      "Python(9627) MallocStackLogging: can't turn off malloc stack logging because it was not enabled.\n",
      "/opt/homebrew/lib/python3.11/site-packages/PIL/Image.py:981: UserWarning: Palette images with Transparency expressed in bytes should be converted to RGBA images\n",
      "  warnings.warn(\n",
      "Python(22164) MallocStackLogging: can't turn off malloc stack logging because it was not enabled.\n",
      "Python(22171) MallocStackLogging: can't turn off malloc stack logging because it was not enabled.\n",
      "Python(22172) MallocStackLogging: can't turn off malloc stack logging because it was not enabled.\n",
      "Python(22173) MallocStackLogging: can't turn off malloc stack logging because it was not enabled.\n"
     ]
    },
    {
     "name": "stdout",
     "output_type": "stream",
     "text": [
      "test Loss: 0.8185 Acc: 0.7500\n",
      "Epoch 4/10\n",
      "----------\n"
     ]
    },
    {
     "name": "stderr",
     "output_type": "stream",
     "text": [
      "Python(23243) MallocStackLogging: can't turn off malloc stack logging because it was not enabled.\n",
      "Python(23244) MallocStackLogging: can't turn off malloc stack logging because it was not enabled.\n",
      "Python(23245) MallocStackLogging: can't turn off malloc stack logging because it was not enabled.\n",
      "Python(23246) MallocStackLogging: can't turn off malloc stack logging because it was not enabled.\n",
      "/opt/homebrew/lib/python3.11/site-packages/PIL/Image.py:981: UserWarning: Palette images with Transparency expressed in bytes should be converted to RGBA images\n",
      "  warnings.warn(\n",
      "Python(35719) MallocStackLogging: can't turn off malloc stack logging because it was not enabled.\n",
      "Python(35720) MallocStackLogging: can't turn off malloc stack logging because it was not enabled.\n",
      "Python(35721) MallocStackLogging: can't turn off malloc stack logging because it was not enabled.\n",
      "Python(35722) MallocStackLogging: can't turn off malloc stack logging because it was not enabled.\n"
     ]
    },
    {
     "name": "stdout",
     "output_type": "stream",
     "text": [
      "test Loss: 0.6253 Acc: 0.7750\n",
      "Epoch 5/10\n",
      "----------\n"
     ]
    },
    {
     "name": "stderr",
     "output_type": "stream",
     "text": [
      "Python(36915) MallocStackLogging: can't turn off malloc stack logging because it was not enabled.\n",
      "Python(36916) MallocStackLogging: can't turn off malloc stack logging because it was not enabled.\n",
      "Python(36917) MallocStackLogging: can't turn off malloc stack logging because it was not enabled.\n",
      "Python(36918) MallocStackLogging: can't turn off malloc stack logging because it was not enabled.\n",
      "/opt/homebrew/lib/python3.11/site-packages/PIL/Image.py:981: UserWarning: Palette images with Transparency expressed in bytes should be converted to RGBA images\n",
      "  warnings.warn(\n",
      "/opt/homebrew/lib/python3.11/site-packages/PIL/Image.py:981: UserWarning: Palette images with Transparency expressed in bytes should be converted to RGBA images\n",
      "  warnings.warn(\n",
      "Python(49390) MallocStackLogging: can't turn off malloc stack logging because it was not enabled.\n",
      "Python(49391) MallocStackLogging: can't turn off malloc stack logging because it was not enabled.\n",
      "Python(49392) MallocStackLogging: can't turn off malloc stack logging because it was not enabled.\n",
      "Python(49393) MallocStackLogging: can't turn off malloc stack logging because it was not enabled.\n"
     ]
    },
    {
     "name": "stdout",
     "output_type": "stream",
     "text": [
      "test Loss: 0.5370 Acc: 0.8000\n",
      "Epoch 6/10\n",
      "----------\n"
     ]
    },
    {
     "name": "stderr",
     "output_type": "stream",
     "text": [
      "Python(50593) MallocStackLogging: can't turn off malloc stack logging because it was not enabled.\n",
      "Python(50594) MallocStackLogging: can't turn off malloc stack logging because it was not enabled.\n",
      "Python(50595) MallocStackLogging: can't turn off malloc stack logging because it was not enabled.\n",
      "Python(50596) MallocStackLogging: can't turn off malloc stack logging because it was not enabled.\n",
      "/opt/homebrew/lib/python3.11/site-packages/PIL/Image.py:981: UserWarning: Palette images with Transparency expressed in bytes should be converted to RGBA images\n",
      "  warnings.warn(\n",
      "/opt/homebrew/lib/python3.11/site-packages/PIL/Image.py:981: UserWarning: Palette images with Transparency expressed in bytes should be converted to RGBA images\n",
      "  warnings.warn(\n",
      "Python(63233) MallocStackLogging: can't turn off malloc stack logging because it was not enabled.\n",
      "Python(63234) MallocStackLogging: can't turn off malloc stack logging because it was not enabled.\n",
      "Python(63235) MallocStackLogging: can't turn off malloc stack logging because it was not enabled.\n",
      "Python(63236) MallocStackLogging: can't turn off malloc stack logging because it was not enabled.\n"
     ]
    },
    {
     "name": "stdout",
     "output_type": "stream",
     "text": [
      "test Loss: 0.5481 Acc: 0.8125\n",
      "Epoch 7/10\n",
      "----------\n"
     ]
    },
    {
     "name": "stderr",
     "output_type": "stream",
     "text": [
      "Python(64388) MallocStackLogging: can't turn off malloc stack logging because it was not enabled.\n",
      "Python(64389) MallocStackLogging: can't turn off malloc stack logging because it was not enabled.\n",
      "Python(64390) MallocStackLogging: can't turn off malloc stack logging because it was not enabled.\n",
      "Python(64391) MallocStackLogging: can't turn off malloc stack logging because it was not enabled.\n",
      "/opt/homebrew/lib/python3.11/site-packages/PIL/Image.py:981: UserWarning: Palette images with Transparency expressed in bytes should be converted to RGBA images\n",
      "  warnings.warn(\n",
      "Python(76861) MallocStackLogging: can't turn off malloc stack logging because it was not enabled.\n",
      "Python(76862) MallocStackLogging: can't turn off malloc stack logging because it was not enabled.\n",
      "Python(76863) MallocStackLogging: can't turn off malloc stack logging because it was not enabled.\n",
      "Python(76864) MallocStackLogging: can't turn off malloc stack logging because it was not enabled.\n"
     ]
    },
    {
     "name": "stdout",
     "output_type": "stream",
     "text": [
      "test Loss: 0.5769 Acc: 0.8500\n",
      "Epoch 8/10\n",
      "----------\n"
     ]
    },
    {
     "name": "stderr",
     "output_type": "stream",
     "text": [
      "Python(78002) MallocStackLogging: can't turn off malloc stack logging because it was not enabled.\n",
      "Python(78003) MallocStackLogging: can't turn off malloc stack logging because it was not enabled.\n",
      "Python(78004) MallocStackLogging: can't turn off malloc stack logging because it was not enabled.\n",
      "Python(78005) MallocStackLogging: can't turn off malloc stack logging because it was not enabled.\n",
      "/opt/homebrew/lib/python3.11/site-packages/PIL/Image.py:981: UserWarning: Palette images with Transparency expressed in bytes should be converted to RGBA images\n",
      "  warnings.warn(\n",
      "/opt/homebrew/lib/python3.11/site-packages/PIL/Image.py:981: UserWarning: Palette images with Transparency expressed in bytes should be converted to RGBA images\n",
      "  warnings.warn(\n",
      "Python(90559) MallocStackLogging: can't turn off malloc stack logging because it was not enabled.\n",
      "Python(90560) MallocStackLogging: can't turn off malloc stack logging because it was not enabled.\n",
      "Python(90561) MallocStackLogging: can't turn off malloc stack logging because it was not enabled.\n",
      "Python(90562) MallocStackLogging: can't turn off malloc stack logging because it was not enabled.\n"
     ]
    },
    {
     "name": "stdout",
     "output_type": "stream",
     "text": [
      "test Loss: 0.5344 Acc: 0.8125\n",
      "Epoch 9/10\n",
      "----------\n"
     ]
    },
    {
     "name": "stderr",
     "output_type": "stream",
     "text": [
      "Python(91683) MallocStackLogging: can't turn off malloc stack logging because it was not enabled.\n",
      "Python(91684) MallocStackLogging: can't turn off malloc stack logging because it was not enabled.\n",
      "Python(91685) MallocStackLogging: can't turn off malloc stack logging because it was not enabled.\n",
      "Python(91686) MallocStackLogging: can't turn off malloc stack logging because it was not enabled.\n",
      "/opt/homebrew/lib/python3.11/site-packages/PIL/Image.py:981: UserWarning: Palette images with Transparency expressed in bytes should be converted to RGBA images\n",
      "  warnings.warn(\n",
      "/opt/homebrew/lib/python3.11/site-packages/PIL/Image.py:981: UserWarning: Palette images with Transparency expressed in bytes should be converted to RGBA images\n",
      "  warnings.warn(\n",
      "Python(4004) MallocStackLogging: can't turn off malloc stack logging because it was not enabled.\n",
      "Python(4005) MallocStackLogging: can't turn off malloc stack logging because it was not enabled.\n",
      "Python(4006) MallocStackLogging: can't turn off malloc stack logging because it was not enabled.\n",
      "Python(4007) MallocStackLogging: can't turn off malloc stack logging because it was not enabled.\n"
     ]
    },
    {
     "name": "stdout",
     "output_type": "stream",
     "text": [
      "test Loss: 0.4488 Acc: 0.8625\n",
      "Epoch 10/10\n",
      "----------\n"
     ]
    },
    {
     "name": "stderr",
     "output_type": "stream",
     "text": [
      "Python(5109) MallocStackLogging: can't turn off malloc stack logging because it was not enabled.\n",
      "Python(5110) MallocStackLogging: can't turn off malloc stack logging because it was not enabled.\n",
      "Python(5111) MallocStackLogging: can't turn off malloc stack logging because it was not enabled.\n",
      "Python(5112) MallocStackLogging: can't turn off malloc stack logging because it was not enabled.\n",
      "/opt/homebrew/lib/python3.11/site-packages/PIL/Image.py:981: UserWarning: Palette images with Transparency expressed in bytes should be converted to RGBA images\n",
      "  warnings.warn(\n",
      "/opt/homebrew/lib/python3.11/site-packages/PIL/Image.py:981: UserWarning: Palette images with Transparency expressed in bytes should be converted to RGBA images\n",
      "  warnings.warn(\n",
      "Python(17635) MallocStackLogging: can't turn off malloc stack logging because it was not enabled.\n",
      "Python(17636) MallocStackLogging: can't turn off malloc stack logging because it was not enabled.\n",
      "Python(17637) MallocStackLogging: can't turn off malloc stack logging because it was not enabled.\n",
      "Python(17638) MallocStackLogging: can't turn off malloc stack logging because it was not enabled.\n"
     ]
    },
    {
     "name": "stdout",
     "output_type": "stream",
     "text": [
      "test Loss: 0.7035 Acc: 0.8375\n",
      "Training complete in 363m 43s\n"
     ]
    },
    {
     "name": "stderr",
     "output_type": "stream",
     "text": [
      "Python(18875) MallocStackLogging: can't turn off malloc stack logging because it was not enabled.\n",
      "Python(18876) MallocStackLogging: can't turn off malloc stack logging because it was not enabled.\n",
      "Python(18877) MallocStackLogging: can't turn off malloc stack logging because it was not enabled.\n",
      "Python(18878) MallocStackLogging: can't turn off malloc stack logging because it was not enabled.\n"
     ]
    },
    {
     "name": "stdout",
     "output_type": "stream",
     "text": [
      "Training Time: 21822.73s\n",
      "Model Parameters: 3288348418\n",
      "Training vgg3block...\n",
      "Epoch 1/10\n",
      "----------\n"
     ]
    },
    {
     "name": "stderr",
     "output_type": "stream",
     "text": [
      "Python(20624) MallocStackLogging: can't turn off malloc stack logging because it was not enabled.\n",
      "Python(20625) MallocStackLogging: can't turn off malloc stack logging because it was not enabled.\n",
      "Python(20626) MallocStackLogging: can't turn off malloc stack logging because it was not enabled.\n",
      "Python(20627) MallocStackLogging: can't turn off malloc stack logging because it was not enabled.\n",
      "/opt/homebrew/lib/python3.11/site-packages/PIL/Image.py:981: UserWarning: Palette images with Transparency expressed in bytes should be converted to RGBA images\n",
      "  warnings.warn(\n",
      "/opt/homebrew/lib/python3.11/site-packages/PIL/Image.py:981: UserWarning: Palette images with Transparency expressed in bytes should be converted to RGBA images\n",
      "  warnings.warn(\n",
      "Python(21191) MallocStackLogging: can't turn off malloc stack logging because it was not enabled.\n",
      "Python(21192) MallocStackLogging: can't turn off malloc stack logging because it was not enabled.\n",
      "Python(21193) MallocStackLogging: can't turn off malloc stack logging because it was not enabled.\n",
      "Python(21194) MallocStackLogging: can't turn off malloc stack logging because it was not enabled.\n"
     ]
    },
    {
     "name": "stdout",
     "output_type": "stream",
     "text": [
      "test Loss: 0.6932 Acc: 0.5000\n",
      "Epoch 2/10\n",
      "----------\n"
     ]
    },
    {
     "name": "stderr",
     "output_type": "stream",
     "text": [
      "Python(21342) MallocStackLogging: can't turn off malloc stack logging because it was not enabled.\n",
      "Python(21343) MallocStackLogging: can't turn off malloc stack logging because it was not enabled.\n",
      "Python(21344) MallocStackLogging: can't turn off malloc stack logging because it was not enabled.\n",
      "Python(21345) MallocStackLogging: can't turn off malloc stack logging because it was not enabled.\n",
      "/opt/homebrew/lib/python3.11/site-packages/PIL/Image.py:981: UserWarning: Palette images with Transparency expressed in bytes should be converted to RGBA images\n",
      "  warnings.warn(\n",
      "/opt/homebrew/lib/python3.11/site-packages/PIL/Image.py:981: UserWarning: Palette images with Transparency expressed in bytes should be converted to RGBA images\n",
      "  warnings.warn(\n",
      "Python(21857) MallocStackLogging: can't turn off malloc stack logging because it was not enabled.\n",
      "Python(21858) MallocStackLogging: can't turn off malloc stack logging because it was not enabled.\n",
      "Python(21859) MallocStackLogging: can't turn off malloc stack logging because it was not enabled.\n",
      "Python(21860) MallocStackLogging: can't turn off malloc stack logging because it was not enabled.\n"
     ]
    },
    {
     "name": "stdout",
     "output_type": "stream",
     "text": [
      "test Loss: 0.6930 Acc: 0.5000\n",
      "Epoch 3/10\n",
      "----------\n"
     ]
    },
    {
     "name": "stderr",
     "output_type": "stream",
     "text": [
      "Python(22004) MallocStackLogging: can't turn off malloc stack logging because it was not enabled.\n",
      "Python(22005) MallocStackLogging: can't turn off malloc stack logging because it was not enabled.\n",
      "Python(22006) MallocStackLogging: can't turn off malloc stack logging because it was not enabled.\n",
      "Python(22007) MallocStackLogging: can't turn off malloc stack logging because it was not enabled.\n",
      "/opt/homebrew/lib/python3.11/site-packages/PIL/Image.py:981: UserWarning: Palette images with Transparency expressed in bytes should be converted to RGBA images\n",
      "  warnings.warn(\n",
      "/opt/homebrew/lib/python3.11/site-packages/PIL/Image.py:981: UserWarning: Palette images with Transparency expressed in bytes should be converted to RGBA images\n",
      "  warnings.warn(\n",
      "Python(22529) MallocStackLogging: can't turn off malloc stack logging because it was not enabled.\n",
      "Python(22530) MallocStackLogging: can't turn off malloc stack logging because it was not enabled.\n",
      "Python(22531) MallocStackLogging: can't turn off malloc stack logging because it was not enabled.\n",
      "Python(22532) MallocStackLogging: can't turn off malloc stack logging because it was not enabled.\n"
     ]
    },
    {
     "name": "stdout",
     "output_type": "stream",
     "text": [
      "test Loss: 0.6929 Acc: 0.5000\n",
      "Epoch 4/10\n",
      "----------\n"
     ]
    },
    {
     "name": "stderr",
     "output_type": "stream",
     "text": [
      "Python(22680) MallocStackLogging: can't turn off malloc stack logging because it was not enabled.\n",
      "Python(22681) MallocStackLogging: can't turn off malloc stack logging because it was not enabled.\n",
      "Python(22682) MallocStackLogging: can't turn off malloc stack logging because it was not enabled.\n",
      "Python(22683) MallocStackLogging: can't turn off malloc stack logging because it was not enabled.\n",
      "/opt/homebrew/lib/python3.11/site-packages/PIL/Image.py:981: UserWarning: Palette images with Transparency expressed in bytes should be converted to RGBA images\n",
      "  warnings.warn(\n",
      "/opt/homebrew/lib/python3.11/site-packages/PIL/Image.py:981: UserWarning: Palette images with Transparency expressed in bytes should be converted to RGBA images\n",
      "  warnings.warn(\n",
      "Python(23203) MallocStackLogging: can't turn off malloc stack logging because it was not enabled.\n",
      "Python(23204) MallocStackLogging: can't turn off malloc stack logging because it was not enabled.\n",
      "Python(23205) MallocStackLogging: can't turn off malloc stack logging because it was not enabled.\n",
      "Python(23206) MallocStackLogging: can't turn off malloc stack logging because it was not enabled.\n"
     ]
    },
    {
     "name": "stdout",
     "output_type": "stream",
     "text": [
      "test Loss: 0.6928 Acc: 0.5000\n",
      "Epoch 5/10\n",
      "----------\n"
     ]
    },
    {
     "name": "stderr",
     "output_type": "stream",
     "text": [
      "Python(23347) MallocStackLogging: can't turn off malloc stack logging because it was not enabled.\n",
      "Python(23348) MallocStackLogging: can't turn off malloc stack logging because it was not enabled.\n",
      "Python(23349) MallocStackLogging: can't turn off malloc stack logging because it was not enabled.\n",
      "Python(23350) MallocStackLogging: can't turn off malloc stack logging because it was not enabled.\n",
      "/opt/homebrew/lib/python3.11/site-packages/PIL/Image.py:981: UserWarning: Palette images with Transparency expressed in bytes should be converted to RGBA images\n",
      "  warnings.warn(\n",
      "/opt/homebrew/lib/python3.11/site-packages/PIL/Image.py:981: UserWarning: Palette images with Transparency expressed in bytes should be converted to RGBA images\n",
      "  warnings.warn(\n",
      "Python(23846) MallocStackLogging: can't turn off malloc stack logging because it was not enabled.\n",
      "Python(23847) MallocStackLogging: can't turn off malloc stack logging because it was not enabled.\n",
      "Python(23848) MallocStackLogging: can't turn off malloc stack logging because it was not enabled.\n",
      "Python(23849) MallocStackLogging: can't turn off malloc stack logging because it was not enabled.\n"
     ]
    },
    {
     "name": "stdout",
     "output_type": "stream",
     "text": [
      "test Loss: 0.6927 Acc: 0.5000\n",
      "Epoch 6/10\n",
      "----------\n"
     ]
    },
    {
     "name": "stderr",
     "output_type": "stream",
     "text": [
      "Python(23988) MallocStackLogging: can't turn off malloc stack logging because it was not enabled.\n",
      "Python(23989) MallocStackLogging: can't turn off malloc stack logging because it was not enabled.\n",
      "Python(23990) MallocStackLogging: can't turn off malloc stack logging because it was not enabled.\n",
      "Python(23991) MallocStackLogging: can't turn off malloc stack logging because it was not enabled.\n",
      "/opt/homebrew/lib/python3.11/site-packages/PIL/Image.py:981: UserWarning: Palette images with Transparency expressed in bytes should be converted to RGBA images\n",
      "  warnings.warn(\n",
      "Python(24528) MallocStackLogging: can't turn off malloc stack logging because it was not enabled.\n",
      "Python(24529) MallocStackLogging: can't turn off malloc stack logging because it was not enabled.\n",
      "Python(24530) MallocStackLogging: can't turn off malloc stack logging because it was not enabled.\n",
      "Python(24531) MallocStackLogging: can't turn off malloc stack logging because it was not enabled.\n"
     ]
    },
    {
     "name": "stdout",
     "output_type": "stream",
     "text": [
      "test Loss: 0.6925 Acc: 0.5000\n",
      "Epoch 7/10\n",
      "----------\n"
     ]
    },
    {
     "name": "stderr",
     "output_type": "stream",
     "text": [
      "Python(24679) MallocStackLogging: can't turn off malloc stack logging because it was not enabled.\n",
      "Python(24680) MallocStackLogging: can't turn off malloc stack logging because it was not enabled.\n",
      "Python(24681) MallocStackLogging: can't turn off malloc stack logging because it was not enabled.\n",
      "Python(24682) MallocStackLogging: can't turn off malloc stack logging because it was not enabled.\n",
      "/opt/homebrew/lib/python3.11/site-packages/PIL/Image.py:981: UserWarning: Palette images with Transparency expressed in bytes should be converted to RGBA images\n",
      "  warnings.warn(\n",
      "Python(25157) MallocStackLogging: can't turn off malloc stack logging because it was not enabled.\n",
      "Python(25158) MallocStackLogging: can't turn off malloc stack logging because it was not enabled.\n",
      "Python(25159) MallocStackLogging: can't turn off malloc stack logging because it was not enabled.\n",
      "Python(25160) MallocStackLogging: can't turn off malloc stack logging because it was not enabled.\n"
     ]
    },
    {
     "name": "stdout",
     "output_type": "stream",
     "text": [
      "test Loss: 0.6924 Acc: 0.5000\n",
      "Epoch 8/10\n",
      "----------\n"
     ]
    },
    {
     "name": "stderr",
     "output_type": "stream",
     "text": [
      "Python(25313) MallocStackLogging: can't turn off malloc stack logging because it was not enabled.\n",
      "Python(25314) MallocStackLogging: can't turn off malloc stack logging because it was not enabled.\n",
      "Python(25315) MallocStackLogging: can't turn off malloc stack logging because it was not enabled.\n",
      "Python(25316) MallocStackLogging: can't turn off malloc stack logging because it was not enabled.\n",
      "/opt/homebrew/lib/python3.11/site-packages/PIL/Image.py:981: UserWarning: Palette images with Transparency expressed in bytes should be converted to RGBA images\n",
      "  warnings.warn(\n",
      "/opt/homebrew/lib/python3.11/site-packages/PIL/Image.py:981: UserWarning: Palette images with Transparency expressed in bytes should be converted to RGBA images\n",
      "  warnings.warn(\n",
      "Python(25865) MallocStackLogging: can't turn off malloc stack logging because it was not enabled.\n",
      "Python(25866) MallocStackLogging: can't turn off malloc stack logging because it was not enabled.\n",
      "Python(25867) MallocStackLogging: can't turn off malloc stack logging because it was not enabled.\n",
      "Python(25868) MallocStackLogging: can't turn off malloc stack logging because it was not enabled.\n"
     ]
    },
    {
     "name": "stdout",
     "output_type": "stream",
     "text": [
      "test Loss: 0.6923 Acc: 0.4875\n",
      "Epoch 9/10\n",
      "----------\n"
     ]
    },
    {
     "name": "stderr",
     "output_type": "stream",
     "text": [
      "Python(26027) MallocStackLogging: can't turn off malloc stack logging because it was not enabled.\n",
      "Python(26028) MallocStackLogging: can't turn off malloc stack logging because it was not enabled.\n",
      "Python(26029) MallocStackLogging: can't turn off malloc stack logging because it was not enabled.\n",
      "Python(26030) MallocStackLogging: can't turn off malloc stack logging because it was not enabled.\n",
      "/opt/homebrew/lib/python3.11/site-packages/PIL/Image.py:981: UserWarning: Palette images with Transparency expressed in bytes should be converted to RGBA images\n",
      "  warnings.warn(\n",
      "Python(26499) MallocStackLogging: can't turn off malloc stack logging because it was not enabled.\n",
      "Python(26500) MallocStackLogging: can't turn off malloc stack logging because it was not enabled.\n",
      "Python(26501) MallocStackLogging: can't turn off malloc stack logging because it was not enabled.\n",
      "Python(26502) MallocStackLogging: can't turn off malloc stack logging because it was not enabled.\n"
     ]
    },
    {
     "name": "stdout",
     "output_type": "stream",
     "text": [
      "test Loss: 0.6922 Acc: 0.5375\n",
      "Epoch 10/10\n",
      "----------\n"
     ]
    },
    {
     "name": "stderr",
     "output_type": "stream",
     "text": [
      "Python(26658) MallocStackLogging: can't turn off malloc stack logging because it was not enabled.\n",
      "Python(26659) MallocStackLogging: can't turn off malloc stack logging because it was not enabled.\n",
      "Python(26660) MallocStackLogging: can't turn off malloc stack logging because it was not enabled.\n",
      "Python(26661) MallocStackLogging: can't turn off malloc stack logging because it was not enabled.\n",
      "/opt/homebrew/lib/python3.11/site-packages/PIL/Image.py:981: UserWarning: Palette images with Transparency expressed in bytes should be converted to RGBA images\n",
      "  warnings.warn(\n",
      "/opt/homebrew/lib/python3.11/site-packages/PIL/Image.py:981: UserWarning: Palette images with Transparency expressed in bytes should be converted to RGBA images\n",
      "  warnings.warn(\n",
      "Python(27157) MallocStackLogging: can't turn off malloc stack logging because it was not enabled.\n",
      "Python(27158) MallocStackLogging: can't turn off malloc stack logging because it was not enabled.\n",
      "Python(27159) MallocStackLogging: can't turn off malloc stack logging because it was not enabled.\n",
      "Python(27160) MallocStackLogging: can't turn off malloc stack logging because it was not enabled.\n"
     ]
    },
    {
     "name": "stdout",
     "output_type": "stream",
     "text": [
      "test Loss: 0.6921 Acc: 0.5375\n",
      "Training complete in 18m 60s\n"
     ]
    },
    {
     "name": "stderr",
     "output_type": "stream",
     "text": [
      "Python(27356) MallocStackLogging: can't turn off malloc stack logging because it was not enabled.\n",
      "Python(27357) MallocStackLogging: can't turn off malloc stack logging because it was not enabled.\n",
      "Python(27358) MallocStackLogging: can't turn off malloc stack logging because it was not enabled.\n",
      "Python(27359) MallocStackLogging: can't turn off malloc stack logging because it was not enabled.\n"
     ]
    },
    {
     "name": "stdout",
     "output_type": "stream",
     "text": [
      "Training Time: 1139.72s\n",
      "Model Parameters: 840022594\n",
      "Training vgg3block...\n",
      "Epoch 1/10\n",
      "----------\n"
     ]
    },
    {
     "name": "stderr",
     "output_type": "stream",
     "text": [
      "Python(27544) MallocStackLogging: can't turn off malloc stack logging because it was not enabled.\n",
      "Python(27545) MallocStackLogging: can't turn off malloc stack logging because it was not enabled.\n",
      "Python(27546) MallocStackLogging: can't turn off malloc stack logging because it was not enabled.\n",
      "Python(27547) MallocStackLogging: can't turn off malloc stack logging because it was not enabled.\n",
      "/opt/homebrew/lib/python3.11/site-packages/PIL/Image.py:981: UserWarning: Palette images with Transparency expressed in bytes should be converted to RGBA images\n",
      "  warnings.warn(\n",
      "/opt/homebrew/lib/python3.11/site-packages/PIL/Image.py:981: UserWarning: Palette images with Transparency expressed in bytes should be converted to RGBA images\n",
      "  warnings.warn(\n",
      "Python(28404) MallocStackLogging: can't turn off malloc stack logging because it was not enabled.\n",
      "Python(28405) MallocStackLogging: can't turn off malloc stack logging because it was not enabled.\n",
      "Python(28406) MallocStackLogging: can't turn off malloc stack logging because it was not enabled.\n",
      "Python(28407) MallocStackLogging: can't turn off malloc stack logging because it was not enabled.\n"
     ]
    },
    {
     "name": "stdout",
     "output_type": "stream",
     "text": [
      "test Loss: 0.6932 Acc: 0.5000\n",
      "Epoch 2/10\n",
      "----------\n"
     ]
    },
    {
     "name": "stderr",
     "output_type": "stream",
     "text": [
      "Python(28555) MallocStackLogging: can't turn off malloc stack logging because it was not enabled.\n",
      "Python(28556) MallocStackLogging: can't turn off malloc stack logging because it was not enabled.\n",
      "Python(28557) MallocStackLogging: can't turn off malloc stack logging because it was not enabled.\n",
      "Python(28558) MallocStackLogging: can't turn off malloc stack logging because it was not enabled.\n",
      "/opt/homebrew/lib/python3.11/site-packages/PIL/Image.py:981: UserWarning: Palette images with Transparency expressed in bytes should be converted to RGBA images\n",
      "  warnings.warn(\n",
      "/opt/homebrew/lib/python3.11/site-packages/PIL/Image.py:981: UserWarning: Palette images with Transparency expressed in bytes should be converted to RGBA images\n",
      "  warnings.warn(\n",
      "Python(29501) MallocStackLogging: can't turn off malloc stack logging because it was not enabled.\n",
      "Python(29502) MallocStackLogging: can't turn off malloc stack logging because it was not enabled.\n",
      "Python(29503) MallocStackLogging: can't turn off malloc stack logging because it was not enabled.\n",
      "Python(29504) MallocStackLogging: can't turn off malloc stack logging because it was not enabled.\n"
     ]
    },
    {
     "name": "stdout",
     "output_type": "stream",
     "text": [
      "test Loss: 0.6931 Acc: 0.5000\n",
      "Epoch 3/10\n",
      "----------\n"
     ]
    },
    {
     "name": "stderr",
     "output_type": "stream",
     "text": [
      "Python(29656) MallocStackLogging: can't turn off malloc stack logging because it was not enabled.\n",
      "Python(29657) MallocStackLogging: can't turn off malloc stack logging because it was not enabled.\n",
      "Python(29658) MallocStackLogging: can't turn off malloc stack logging because it was not enabled.\n",
      "Python(29659) MallocStackLogging: can't turn off malloc stack logging because it was not enabled.\n",
      "/opt/homebrew/lib/python3.11/site-packages/PIL/Image.py:981: UserWarning: Palette images with Transparency expressed in bytes should be converted to RGBA images\n",
      "  warnings.warn(\n",
      "/opt/homebrew/lib/python3.11/site-packages/PIL/Image.py:981: UserWarning: Palette images with Transparency expressed in bytes should be converted to RGBA images\n",
      "  warnings.warn(\n",
      "Python(30458) MallocStackLogging: can't turn off malloc stack logging because it was not enabled.\n",
      "Python(30459) MallocStackLogging: can't turn off malloc stack logging because it was not enabled.\n",
      "Python(30460) MallocStackLogging: can't turn off malloc stack logging because it was not enabled.\n",
      "Python(30461) MallocStackLogging: can't turn off malloc stack logging because it was not enabled.\n"
     ]
    },
    {
     "name": "stdout",
     "output_type": "stream",
     "text": [
      "test Loss: 0.6930 Acc: 0.5000\n",
      "Epoch 4/10\n",
      "----------\n"
     ]
    },
    {
     "name": "stderr",
     "output_type": "stream",
     "text": [
      "Python(30611) MallocStackLogging: can't turn off malloc stack logging because it was not enabled.\n",
      "Python(30612) MallocStackLogging: can't turn off malloc stack logging because it was not enabled.\n",
      "Python(30613) MallocStackLogging: can't turn off malloc stack logging because it was not enabled.\n",
      "Python(30614) MallocStackLogging: can't turn off malloc stack logging because it was not enabled.\n",
      "/opt/homebrew/lib/python3.11/site-packages/PIL/Image.py:981: UserWarning: Palette images with Transparency expressed in bytes should be converted to RGBA images\n",
      "  warnings.warn(\n",
      "/opt/homebrew/lib/python3.11/site-packages/PIL/Image.py:981: UserWarning: Palette images with Transparency expressed in bytes should be converted to RGBA images\n",
      "  warnings.warn(\n",
      "Python(31469) MallocStackLogging: can't turn off malloc stack logging because it was not enabled.\n",
      "Python(31470) MallocStackLogging: can't turn off malloc stack logging because it was not enabled.\n",
      "Python(31471) MallocStackLogging: can't turn off malloc stack logging because it was not enabled.\n",
      "Python(31472) MallocStackLogging: can't turn off malloc stack logging because it was not enabled.\n"
     ]
    },
    {
     "name": "stdout",
     "output_type": "stream",
     "text": [
      "test Loss: 0.6930 Acc: 0.5000\n",
      "Epoch 5/10\n",
      "----------\n"
     ]
    },
    {
     "name": "stderr",
     "output_type": "stream",
     "text": [
      "Python(31620) MallocStackLogging: can't turn off malloc stack logging because it was not enabled.\n",
      "Python(31621) MallocStackLogging: can't turn off malloc stack logging because it was not enabled.\n",
      "Python(31622) MallocStackLogging: can't turn off malloc stack logging because it was not enabled.\n",
      "Python(31623) MallocStackLogging: can't turn off malloc stack logging because it was not enabled.\n",
      "/opt/homebrew/lib/python3.11/site-packages/PIL/Image.py:981: UserWarning: Palette images with Transparency expressed in bytes should be converted to RGBA images\n",
      "  warnings.warn(\n",
      "Python(32480) MallocStackLogging: can't turn off malloc stack logging because it was not enabled.\n",
      "Python(32481) MallocStackLogging: can't turn off malloc stack logging because it was not enabled.\n",
      "Python(32482) MallocStackLogging: can't turn off malloc stack logging because it was not enabled.\n",
      "Python(32483) MallocStackLogging: can't turn off malloc stack logging because it was not enabled.\n"
     ]
    },
    {
     "name": "stdout",
     "output_type": "stream",
     "text": [
      "test Loss: 0.6929 Acc: 0.5000\n",
      "Epoch 6/10\n",
      "----------\n"
     ]
    },
    {
     "name": "stderr",
     "output_type": "stream",
     "text": [
      "Python(32631) MallocStackLogging: can't turn off malloc stack logging because it was not enabled.\n",
      "Python(32632) MallocStackLogging: can't turn off malloc stack logging because it was not enabled.\n",
      "Python(32633) MallocStackLogging: can't turn off malloc stack logging because it was not enabled.\n",
      "Python(32634) MallocStackLogging: can't turn off malloc stack logging because it was not enabled.\n",
      "/opt/homebrew/lib/python3.11/site-packages/PIL/Image.py:981: UserWarning: Palette images with Transparency expressed in bytes should be converted to RGBA images\n",
      "  warnings.warn(\n",
      "Python(33589) MallocStackLogging: can't turn off malloc stack logging because it was not enabled.\n",
      "Python(33590) MallocStackLogging: can't turn off malloc stack logging because it was not enabled.\n",
      "Python(33591) MallocStackLogging: can't turn off malloc stack logging because it was not enabled.\n",
      "Python(33592) MallocStackLogging: can't turn off malloc stack logging because it was not enabled.\n"
     ]
    },
    {
     "name": "stdout",
     "output_type": "stream",
     "text": [
      "test Loss: 0.6928 Acc: 0.5000\n",
      "Epoch 7/10\n",
      "----------\n"
     ]
    },
    {
     "name": "stderr",
     "output_type": "stream",
     "text": [
      "Python(33751) MallocStackLogging: can't turn off malloc stack logging because it was not enabled.\n",
      "Python(33752) MallocStackLogging: can't turn off malloc stack logging because it was not enabled.\n",
      "Python(33753) MallocStackLogging: can't turn off malloc stack logging because it was not enabled.\n",
      "Python(33754) MallocStackLogging: can't turn off malloc stack logging because it was not enabled.\n",
      "/opt/homebrew/lib/python3.11/site-packages/PIL/Image.py:981: UserWarning: Palette images with Transparency expressed in bytes should be converted to RGBA images\n",
      "  warnings.warn(\n",
      "/opt/homebrew/lib/python3.11/site-packages/PIL/Image.py:981: UserWarning: Palette images with Transparency expressed in bytes should be converted to RGBA images\n",
      "  warnings.warn(\n",
      "Python(34562) MallocStackLogging: can't turn off malloc stack logging because it was not enabled.\n",
      "Python(34563) MallocStackLogging: can't turn off malloc stack logging because it was not enabled.\n",
      "Python(34564) MallocStackLogging: can't turn off malloc stack logging because it was not enabled.\n",
      "Python(34565) MallocStackLogging: can't turn off malloc stack logging because it was not enabled.\n"
     ]
    },
    {
     "name": "stdout",
     "output_type": "stream",
     "text": [
      "test Loss: 0.6928 Acc: 0.5000\n",
      "Epoch 8/10\n",
      "----------\n"
     ]
    },
    {
     "name": "stderr",
     "output_type": "stream",
     "text": [
      "Python(34715) MallocStackLogging: can't turn off malloc stack logging because it was not enabled.\n",
      "Python(34716) MallocStackLogging: can't turn off malloc stack logging because it was not enabled.\n",
      "Python(34717) MallocStackLogging: can't turn off malloc stack logging because it was not enabled.\n",
      "Python(34718) MallocStackLogging: can't turn off malloc stack logging because it was not enabled.\n",
      "/opt/homebrew/lib/python3.11/site-packages/PIL/Image.py:981: UserWarning: Palette images with Transparency expressed in bytes should be converted to RGBA images\n",
      "  warnings.warn(\n",
      "Python(35633) MallocStackLogging: can't turn off malloc stack logging because it was not enabled.\n",
      "Python(35634) MallocStackLogging: can't turn off malloc stack logging because it was not enabled.\n",
      "Python(35635) MallocStackLogging: can't turn off malloc stack logging because it was not enabled.\n",
      "Python(35636) MallocStackLogging: can't turn off malloc stack logging because it was not enabled.\n"
     ]
    },
    {
     "name": "stdout",
     "output_type": "stream",
     "text": [
      "test Loss: 0.6927 Acc: 0.5000\n",
      "Epoch 9/10\n",
      "----------\n"
     ]
    },
    {
     "name": "stderr",
     "output_type": "stream",
     "text": [
      "Python(35791) MallocStackLogging: can't turn off malloc stack logging because it was not enabled.\n",
      "Python(35792) MallocStackLogging: can't turn off malloc stack logging because it was not enabled.\n",
      "Python(35793) MallocStackLogging: can't turn off malloc stack logging because it was not enabled.\n",
      "Python(35794) MallocStackLogging: can't turn off malloc stack logging because it was not enabled.\n",
      "/opt/homebrew/lib/python3.11/site-packages/PIL/Image.py:981: UserWarning: Palette images with Transparency expressed in bytes should be converted to RGBA images\n",
      "  warnings.warn(\n",
      "/opt/homebrew/lib/python3.11/site-packages/PIL/Image.py:981: UserWarning: Palette images with Transparency expressed in bytes should be converted to RGBA images\n",
      "  warnings.warn(\n",
      "Python(36633) MallocStackLogging: can't turn off malloc stack logging because it was not enabled.\n",
      "Python(36634) MallocStackLogging: can't turn off malloc stack logging because it was not enabled.\n",
      "Python(36635) MallocStackLogging: can't turn off malloc stack logging because it was not enabled.\n",
      "Python(36636) MallocStackLogging: can't turn off malloc stack logging because it was not enabled.\n"
     ]
    },
    {
     "name": "stdout",
     "output_type": "stream",
     "text": [
      "test Loss: 0.6926 Acc: 0.5000\n",
      "Epoch 10/10\n",
      "----------\n"
     ]
    },
    {
     "name": "stderr",
     "output_type": "stream",
     "text": [
      "Python(36785) MallocStackLogging: can't turn off malloc stack logging because it was not enabled.\n",
      "Python(36786) MallocStackLogging: can't turn off malloc stack logging because it was not enabled.\n",
      "Python(36787) MallocStackLogging: can't turn off malloc stack logging because it was not enabled.\n",
      "Python(36788) MallocStackLogging: can't turn off malloc stack logging because it was not enabled.\n",
      "/opt/homebrew/lib/python3.11/site-packages/PIL/Image.py:981: UserWarning: Palette images with Transparency expressed in bytes should be converted to RGBA images\n",
      "  warnings.warn(\n",
      "/opt/homebrew/lib/python3.11/site-packages/PIL/Image.py:981: UserWarning: Palette images with Transparency expressed in bytes should be converted to RGBA images\n",
      "  warnings.warn(\n",
      "Python(37642) MallocStackLogging: can't turn off malloc stack logging because it was not enabled.\n",
      "Python(37643) MallocStackLogging: can't turn off malloc stack logging because it was not enabled.\n",
      "Python(37644) MallocStackLogging: can't turn off malloc stack logging because it was not enabled.\n",
      "Python(37645) MallocStackLogging: can't turn off malloc stack logging because it was not enabled.\n"
     ]
    },
    {
     "name": "stdout",
     "output_type": "stream",
     "text": [
      "test Loss: 0.6925 Acc: 0.5000\n",
      "Training complete in 27m 34s\n"
     ]
    },
    {
     "name": "stderr",
     "output_type": "stream",
     "text": [
      "Python(37793) MallocStackLogging: can't turn off malloc stack logging because it was not enabled.\n",
      "Python(37794) MallocStackLogging: can't turn off malloc stack logging because it was not enabled.\n",
      "Python(37795) MallocStackLogging: can't turn off malloc stack logging because it was not enabled.\n",
      "Python(37796) MallocStackLogging: can't turn off malloc stack logging because it was not enabled.\n"
     ]
    },
    {
     "name": "stdout",
     "output_type": "stream",
     "text": [
      "Training Time: 1654.36s\n",
      "Model Parameters: 840022594\n"
     ]
    },
    {
     "name": "stderr",
     "output_type": "stream",
     "text": [
      "/opt/homebrew/lib/python3.11/site-packages/torchvision/models/_utils.py:208: UserWarning: The parameter 'pretrained' is deprecated since 0.13 and may be removed in the future, please use 'weights' instead.\n",
      "  warnings.warn(\n",
      "/opt/homebrew/lib/python3.11/site-packages/torchvision/models/_utils.py:223: UserWarning: Arguments other than a weight enum or `None` for 'weights' are deprecated since 0.13 and may be removed in the future. The current behavior is equivalent to passing `weights=VGG16_Weights.IMAGENET1K_V1`. You can also use `weights=VGG16_Weights.DEFAULT` to get the most up-to-date weights.\n",
      "  warnings.warn(msg)\n"
     ]
    },
    {
     "name": "stdout",
     "output_type": "stream",
     "text": [
      "Training vgg16...\n",
      "Epoch 1/10\n",
      "----------\n"
     ]
    },
    {
     "name": "stderr",
     "output_type": "stream",
     "text": [
      "Python(37959) MallocStackLogging: can't turn off malloc stack logging because it was not enabled.\n",
      "Python(37960) MallocStackLogging: can't turn off malloc stack logging because it was not enabled.\n",
      "Python(37961) MallocStackLogging: can't turn off malloc stack logging because it was not enabled.\n",
      "Python(37962) MallocStackLogging: can't turn off malloc stack logging because it was not enabled.\n",
      "/opt/homebrew/lib/python3.11/site-packages/PIL/Image.py:981: UserWarning: Palette images with Transparency expressed in bytes should be converted to RGBA images\n",
      "  warnings.warn(\n",
      "/opt/homebrew/lib/python3.11/site-packages/PIL/Image.py:981: UserWarning: Palette images with Transparency expressed in bytes should be converted to RGBA images\n",
      "  warnings.warn(\n",
      "Python(38281) MallocStackLogging: can't turn off malloc stack logging because it was not enabled.\n",
      "Python(38282) MallocStackLogging: can't turn off malloc stack logging because it was not enabled.\n",
      "Python(38283) MallocStackLogging: can't turn off malloc stack logging because it was not enabled.\n",
      "Python(38284) MallocStackLogging: can't turn off malloc stack logging because it was not enabled.\n"
     ]
    },
    {
     "name": "stdout",
     "output_type": "stream",
     "text": [
      "test Loss: 0.0429 Acc: 1.0000\n",
      "Epoch 2/10\n",
      "----------\n"
     ]
    },
    {
     "name": "stderr",
     "output_type": "stream",
     "text": [
      "Python(38432) MallocStackLogging: can't turn off malloc stack logging because it was not enabled.\n",
      "Python(38433) MallocStackLogging: can't turn off malloc stack logging because it was not enabled.\n",
      "Python(38434) MallocStackLogging: can't turn off malloc stack logging because it was not enabled.\n",
      "Python(38435) MallocStackLogging: can't turn off malloc stack logging because it was not enabled.\n",
      "/opt/homebrew/lib/python3.11/site-packages/PIL/Image.py:981: UserWarning: Palette images with Transparency expressed in bytes should be converted to RGBA images\n",
      "  warnings.warn(\n",
      "/opt/homebrew/lib/python3.11/site-packages/PIL/Image.py:981: UserWarning: Palette images with Transparency expressed in bytes should be converted to RGBA images\n",
      "  warnings.warn(\n",
      "Python(38731) MallocStackLogging: can't turn off malloc stack logging because it was not enabled.\n",
      "Python(38732) MallocStackLogging: can't turn off malloc stack logging because it was not enabled.\n",
      "Python(38733) MallocStackLogging: can't turn off malloc stack logging because it was not enabled.\n",
      "Python(38734) MallocStackLogging: can't turn off malloc stack logging because it was not enabled.\n"
     ]
    },
    {
     "name": "stdout",
     "output_type": "stream",
     "text": [
      "test Loss: 0.0133 Acc: 1.0000\n",
      "Epoch 3/10\n",
      "----------\n"
     ]
    },
    {
     "name": "stderr",
     "output_type": "stream",
     "text": [
      "Python(38885) MallocStackLogging: can't turn off malloc stack logging because it was not enabled.\n",
      "Python(38886) MallocStackLogging: can't turn off malloc stack logging because it was not enabled.\n",
      "Python(38887) MallocStackLogging: can't turn off malloc stack logging because it was not enabled.\n",
      "Python(38888) MallocStackLogging: can't turn off malloc stack logging because it was not enabled.\n",
      "/opt/homebrew/lib/python3.11/site-packages/PIL/Image.py:981: UserWarning: Palette images with Transparency expressed in bytes should be converted to RGBA images\n",
      "  warnings.warn(\n",
      "Python(39195) MallocStackLogging: can't turn off malloc stack logging because it was not enabled.\n",
      "Python(39196) MallocStackLogging: can't turn off malloc stack logging because it was not enabled.\n",
      "Python(39197) MallocStackLogging: can't turn off malloc stack logging because it was not enabled.\n",
      "Python(39198) MallocStackLogging: can't turn off malloc stack logging because it was not enabled.\n"
     ]
    },
    {
     "name": "stdout",
     "output_type": "stream",
     "text": [
      "test Loss: 0.0086 Acc: 1.0000\n",
      "Epoch 4/10\n",
      "----------\n"
     ]
    },
    {
     "name": "stderr",
     "output_type": "stream",
     "text": [
      "Python(39347) MallocStackLogging: can't turn off malloc stack logging because it was not enabled.\n",
      "Python(39348) MallocStackLogging: can't turn off malloc stack logging because it was not enabled.\n",
      "Python(39349) MallocStackLogging: can't turn off malloc stack logging because it was not enabled.\n",
      "Python(39350) MallocStackLogging: can't turn off malloc stack logging because it was not enabled.\n",
      "/opt/homebrew/lib/python3.11/site-packages/PIL/Image.py:981: UserWarning: Palette images with Transparency expressed in bytes should be converted to RGBA images\n",
      "  warnings.warn(\n",
      "/opt/homebrew/lib/python3.11/site-packages/PIL/Image.py:981: UserWarning: Palette images with Transparency expressed in bytes should be converted to RGBA images\n",
      "  warnings.warn(\n",
      "Python(39655) MallocStackLogging: can't turn off malloc stack logging because it was not enabled.\n",
      "Python(39656) MallocStackLogging: can't turn off malloc stack logging because it was not enabled.\n",
      "Python(39657) MallocStackLogging: can't turn off malloc stack logging because it was not enabled.\n",
      "Python(39658) MallocStackLogging: can't turn off malloc stack logging because it was not enabled.\n"
     ]
    },
    {
     "name": "stdout",
     "output_type": "stream",
     "text": [
      "test Loss: 0.0076 Acc: 1.0000\n",
      "Epoch 5/10\n",
      "----------\n"
     ]
    },
    {
     "name": "stderr",
     "output_type": "stream",
     "text": [
      "Python(39811) MallocStackLogging: can't turn off malloc stack logging because it was not enabled.\n",
      "Python(39812) MallocStackLogging: can't turn off malloc stack logging because it was not enabled.\n",
      "Python(39813) MallocStackLogging: can't turn off malloc stack logging because it was not enabled.\n",
      "Python(39814) MallocStackLogging: can't turn off malloc stack logging because it was not enabled.\n",
      "/opt/homebrew/lib/python3.11/site-packages/PIL/Image.py:981: UserWarning: Palette images with Transparency expressed in bytes should be converted to RGBA images\n",
      "  warnings.warn(\n",
      "/opt/homebrew/lib/python3.11/site-packages/PIL/Image.py:981: UserWarning: Palette images with Transparency expressed in bytes should be converted to RGBA images\n",
      "  warnings.warn(\n",
      "Python(40132) MallocStackLogging: can't turn off malloc stack logging because it was not enabled.\n",
      "Python(40133) MallocStackLogging: can't turn off malloc stack logging because it was not enabled.\n",
      "Python(40134) MallocStackLogging: can't turn off malloc stack logging because it was not enabled.\n",
      "Python(40135) MallocStackLogging: can't turn off malloc stack logging because it was not enabled.\n"
     ]
    },
    {
     "name": "stdout",
     "output_type": "stream",
     "text": [
      "test Loss: 0.0070 Acc: 1.0000\n",
      "Epoch 6/10\n",
      "----------\n"
     ]
    },
    {
     "name": "stderr",
     "output_type": "stream",
     "text": [
      "Python(40287) MallocStackLogging: can't turn off malloc stack logging because it was not enabled.\n",
      "Python(40288) MallocStackLogging: can't turn off malloc stack logging because it was not enabled.\n",
      "Python(40289) MallocStackLogging: can't turn off malloc stack logging because it was not enabled.\n",
      "Python(40290) MallocStackLogging: can't turn off malloc stack logging because it was not enabled.\n",
      "/opt/homebrew/lib/python3.11/site-packages/PIL/Image.py:981: UserWarning: Palette images with Transparency expressed in bytes should be converted to RGBA images\n",
      "  warnings.warn(\n",
      "/opt/homebrew/lib/python3.11/site-packages/PIL/Image.py:981: UserWarning: Palette images with Transparency expressed in bytes should be converted to RGBA images\n",
      "  warnings.warn(\n",
      "Python(40598) MallocStackLogging: can't turn off malloc stack logging because it was not enabled.\n",
      "Python(40599) MallocStackLogging: can't turn off malloc stack logging because it was not enabled.\n",
      "Python(40600) MallocStackLogging: can't turn off malloc stack logging because it was not enabled.\n",
      "Python(40601) MallocStackLogging: can't turn off malloc stack logging because it was not enabled.\n"
     ]
    },
    {
     "name": "stdout",
     "output_type": "stream",
     "text": [
      "test Loss: 0.0069 Acc: 1.0000\n",
      "Epoch 7/10\n",
      "----------\n"
     ]
    },
    {
     "name": "stderr",
     "output_type": "stream",
     "text": [
      "Python(40750) MallocStackLogging: can't turn off malloc stack logging because it was not enabled.\n",
      "Python(40751) MallocStackLogging: can't turn off malloc stack logging because it was not enabled.\n",
      "Python(40752) MallocStackLogging: can't turn off malloc stack logging because it was not enabled.\n",
      "Python(40753) MallocStackLogging: can't turn off malloc stack logging because it was not enabled.\n",
      "/opt/homebrew/lib/python3.11/site-packages/PIL/Image.py:981: UserWarning: Palette images with Transparency expressed in bytes should be converted to RGBA images\n",
      "  warnings.warn(\n",
      "/opt/homebrew/lib/python3.11/site-packages/PIL/Image.py:981: UserWarning: Palette images with Transparency expressed in bytes should be converted to RGBA images\n",
      "  warnings.warn(\n",
      "Python(41060) MallocStackLogging: can't turn off malloc stack logging because it was not enabled.\n",
      "Python(41061) MallocStackLogging: can't turn off malloc stack logging because it was not enabled.\n",
      "Python(41062) MallocStackLogging: can't turn off malloc stack logging because it was not enabled.\n",
      "Python(41063) MallocStackLogging: can't turn off malloc stack logging because it was not enabled.\n"
     ]
    },
    {
     "name": "stdout",
     "output_type": "stream",
     "text": [
      "test Loss: 0.0063 Acc: 1.0000\n",
      "Epoch 8/10\n",
      "----------\n"
     ]
    },
    {
     "name": "stderr",
     "output_type": "stream",
     "text": [
      "Python(41212) MallocStackLogging: can't turn off malloc stack logging because it was not enabled.\n",
      "Python(41213) MallocStackLogging: can't turn off malloc stack logging because it was not enabled.\n",
      "Python(41214) MallocStackLogging: can't turn off malloc stack logging because it was not enabled.\n",
      "Python(41215) MallocStackLogging: can't turn off malloc stack logging because it was not enabled.\n",
      "/opt/homebrew/lib/python3.11/site-packages/PIL/Image.py:981: UserWarning: Palette images with Transparency expressed in bytes should be converted to RGBA images\n",
      "  warnings.warn(\n",
      "Python(41513) MallocStackLogging: can't turn off malloc stack logging because it was not enabled.\n",
      "Python(41514) MallocStackLogging: can't turn off malloc stack logging because it was not enabled.\n",
      "Python(41515) MallocStackLogging: can't turn off malloc stack logging because it was not enabled.\n",
      "Python(41516) MallocStackLogging: can't turn off malloc stack logging because it was not enabled.\n"
     ]
    },
    {
     "name": "stdout",
     "output_type": "stream",
     "text": [
      "test Loss: 0.0053 Acc: 1.0000\n",
      "Epoch 9/10\n",
      "----------\n"
     ]
    },
    {
     "name": "stderr",
     "output_type": "stream",
     "text": [
      "Python(41664) MallocStackLogging: can't turn off malloc stack logging because it was not enabled.\n",
      "Python(41665) MallocStackLogging: can't turn off malloc stack logging because it was not enabled.\n",
      "Python(41666) MallocStackLogging: can't turn off malloc stack logging because it was not enabled.\n",
      "Python(41667) MallocStackLogging: can't turn off malloc stack logging because it was not enabled.\n",
      "/opt/homebrew/lib/python3.11/site-packages/PIL/Image.py:981: UserWarning: Palette images with Transparency expressed in bytes should be converted to RGBA images\n",
      "  warnings.warn(\n",
      "/opt/homebrew/lib/python3.11/site-packages/PIL/Image.py:981: UserWarning: Palette images with Transparency expressed in bytes should be converted to RGBA images\n",
      "  warnings.warn(\n",
      "Python(41972) MallocStackLogging: can't turn off malloc stack logging because it was not enabled.\n",
      "Python(41973) MallocStackLogging: can't turn off malloc stack logging because it was not enabled.\n",
      "Python(41974) MallocStackLogging: can't turn off malloc stack logging because it was not enabled.\n",
      "Python(41975) MallocStackLogging: can't turn off malloc stack logging because it was not enabled.\n"
     ]
    },
    {
     "name": "stdout",
     "output_type": "stream",
     "text": [
      "test Loss: 0.0049 Acc: 1.0000\n",
      "Epoch 10/10\n",
      "----------\n"
     ]
    },
    {
     "name": "stderr",
     "output_type": "stream",
     "text": [
      "Python(42134) MallocStackLogging: can't turn off malloc stack logging because it was not enabled.\n",
      "Python(42135) MallocStackLogging: can't turn off malloc stack logging because it was not enabled.\n",
      "Python(42136) MallocStackLogging: can't turn off malloc stack logging because it was not enabled.\n",
      "Python(42137) MallocStackLogging: can't turn off malloc stack logging because it was not enabled.\n",
      "/opt/homebrew/lib/python3.11/site-packages/PIL/Image.py:981: UserWarning: Palette images with Transparency expressed in bytes should be converted to RGBA images\n",
      "  warnings.warn(\n",
      "/opt/homebrew/lib/python3.11/site-packages/PIL/Image.py:981: UserWarning: Palette images with Transparency expressed in bytes should be converted to RGBA images\n",
      "  warnings.warn(\n",
      "Python(42437) MallocStackLogging: can't turn off malloc stack logging because it was not enabled.\n",
      "Python(42438) MallocStackLogging: can't turn off malloc stack logging because it was not enabled.\n",
      "Python(42439) MallocStackLogging: can't turn off malloc stack logging because it was not enabled.\n",
      "Python(42440) MallocStackLogging: can't turn off malloc stack logging because it was not enabled.\n"
     ]
    },
    {
     "name": "stdout",
     "output_type": "stream",
     "text": [
      "test Loss: 0.0046 Acc: 1.0000\n",
      "Training complete in 12m 60s\n"
     ]
    },
    {
     "name": "stderr",
     "output_type": "stream",
     "text": [
      "Python(42591) MallocStackLogging: can't turn off malloc stack logging because it was not enabled.\n",
      "Python(42592) MallocStackLogging: can't turn off malloc stack logging because it was not enabled.\n",
      "Python(42593) MallocStackLogging: can't turn off malloc stack logging because it was not enabled.\n",
      "Python(42594) MallocStackLogging: can't turn off malloc stack logging because it was not enabled.\n"
     ]
    },
    {
     "name": "stdout",
     "output_type": "stream",
     "text": [
      "Training Time: 779.96s\n",
      "Model Parameters: 134268738\n",
      "Training vgg16...\n",
      "Epoch 1/10\n",
      "----------\n"
     ]
    },
    {
     "name": "stderr",
     "output_type": "stream",
     "text": [
      "Python(42756) MallocStackLogging: can't turn off malloc stack logging because it was not enabled.\n",
      "Python(42757) MallocStackLogging: can't turn off malloc stack logging because it was not enabled.\n",
      "Python(42758) MallocStackLogging: can't turn off malloc stack logging because it was not enabled.\n",
      "Python(42759) MallocStackLogging: can't turn off malloc stack logging because it was not enabled.\n",
      "/opt/homebrew/lib/python3.11/site-packages/PIL/Image.py:981: UserWarning: Palette images with Transparency expressed in bytes should be converted to RGBA images\n",
      "  warnings.warn(\n",
      "/opt/homebrew/lib/python3.11/site-packages/PIL/Image.py:981: UserWarning: Palette images with Transparency expressed in bytes should be converted to RGBA images\n",
      "  warnings.warn(\n",
      "Python(43461) MallocStackLogging: can't turn off malloc stack logging because it was not enabled.\n",
      "Python(43462) MallocStackLogging: can't turn off malloc stack logging because it was not enabled.\n",
      "Python(43463) MallocStackLogging: can't turn off malloc stack logging because it was not enabled.\n",
      "Python(43464) MallocStackLogging: can't turn off malloc stack logging because it was not enabled.\n"
     ]
    },
    {
     "name": "stdout",
     "output_type": "stream",
     "text": [
      "test Loss: 0.0276 Acc: 1.0000\n",
      "Epoch 2/10\n",
      "----------\n"
     ]
    },
    {
     "name": "stderr",
     "output_type": "stream",
     "text": [
      "Python(43613) MallocStackLogging: can't turn off malloc stack logging because it was not enabled.\n",
      "Python(43614) MallocStackLogging: can't turn off malloc stack logging because it was not enabled.\n",
      "Python(43615) MallocStackLogging: can't turn off malloc stack logging because it was not enabled.\n",
      "Python(43616) MallocStackLogging: can't turn off malloc stack logging because it was not enabled.\n",
      "/opt/homebrew/lib/python3.11/site-packages/PIL/Image.py:981: UserWarning: Palette images with Transparency expressed in bytes should be converted to RGBA images\n",
      "  warnings.warn(\n",
      "/opt/homebrew/lib/python3.11/site-packages/PIL/Image.py:981: UserWarning: Palette images with Transparency expressed in bytes should be converted to RGBA images\n",
      "  warnings.warn(\n",
      "Python(44330) MallocStackLogging: can't turn off malloc stack logging because it was not enabled.\n",
      "Python(44331) MallocStackLogging: can't turn off malloc stack logging because it was not enabled.\n",
      "Python(44332) MallocStackLogging: can't turn off malloc stack logging because it was not enabled.\n",
      "Python(44333) MallocStackLogging: can't turn off malloc stack logging because it was not enabled.\n"
     ]
    },
    {
     "name": "stdout",
     "output_type": "stream",
     "text": [
      "test Loss: 0.0081 Acc: 1.0000\n",
      "Epoch 3/10\n",
      "----------\n"
     ]
    },
    {
     "name": "stderr",
     "output_type": "stream",
     "text": [
      "Python(44481) MallocStackLogging: can't turn off malloc stack logging because it was not enabled.\n",
      "Python(44482) MallocStackLogging: can't turn off malloc stack logging because it was not enabled.\n",
      "Python(44483) MallocStackLogging: can't turn off malloc stack logging because it was not enabled.\n",
      "Python(44484) MallocStackLogging: can't turn off malloc stack logging because it was not enabled.\n",
      "/opt/homebrew/lib/python3.11/site-packages/PIL/Image.py:981: UserWarning: Palette images with Transparency expressed in bytes should be converted to RGBA images\n",
      "  warnings.warn(\n",
      "/opt/homebrew/lib/python3.11/site-packages/PIL/Image.py:981: UserWarning: Palette images with Transparency expressed in bytes should be converted to RGBA images\n",
      "  warnings.warn(\n",
      "Python(45237) MallocStackLogging: can't turn off malloc stack logging because it was not enabled.\n",
      "Python(45238) MallocStackLogging: can't turn off malloc stack logging because it was not enabled.\n",
      "Python(45239) MallocStackLogging: can't turn off malloc stack logging because it was not enabled.\n",
      "Python(45240) MallocStackLogging: can't turn off malloc stack logging because it was not enabled.\n"
     ]
    },
    {
     "name": "stdout",
     "output_type": "stream",
     "text": [
      "test Loss: 0.0041 Acc: 1.0000\n",
      "Epoch 4/10\n",
      "----------\n"
     ]
    },
    {
     "name": "stderr",
     "output_type": "stream",
     "text": [
      "Python(45389) MallocStackLogging: can't turn off malloc stack logging because it was not enabled.\n",
      "Python(45390) MallocStackLogging: can't turn off malloc stack logging because it was not enabled.\n",
      "Python(45391) MallocStackLogging: can't turn off malloc stack logging because it was not enabled.\n",
      "Python(45392) MallocStackLogging: can't turn off malloc stack logging because it was not enabled.\n",
      "/opt/homebrew/lib/python3.11/site-packages/PIL/Image.py:981: UserWarning: Palette images with Transparency expressed in bytes should be converted to RGBA images\n",
      "  warnings.warn(\n",
      "Python(46842) MallocStackLogging: can't turn off malloc stack logging because it was not enabled.\n",
      "Python(46843) MallocStackLogging: can't turn off malloc stack logging because it was not enabled.\n",
      "Python(46844) MallocStackLogging: can't turn off malloc stack logging because it was not enabled.\n",
      "Python(46845) MallocStackLogging: can't turn off malloc stack logging because it was not enabled.\n"
     ]
    },
    {
     "name": "stdout",
     "output_type": "stream",
     "text": [
      "test Loss: 0.0027 Acc: 1.0000\n",
      "Epoch 5/10\n",
      "----------\n"
     ]
    },
    {
     "name": "stderr",
     "output_type": "stream",
     "text": [
      "Python(47066) MallocStackLogging: can't turn off malloc stack logging because it was not enabled.\n",
      "Python(47067) MallocStackLogging: can't turn off malloc stack logging because it was not enabled.\n",
      "Python(47068) MallocStackLogging: can't turn off malloc stack logging because it was not enabled.\n",
      "Python(47069) MallocStackLogging: can't turn off malloc stack logging because it was not enabled.\n",
      "/opt/homebrew/lib/python3.11/site-packages/PIL/Image.py:981: UserWarning: Palette images with Transparency expressed in bytes should be converted to RGBA images\n",
      "  warnings.warn(\n",
      "/opt/homebrew/lib/python3.11/site-packages/PIL/Image.py:981: UserWarning: Palette images with Transparency expressed in bytes should be converted to RGBA images\n",
      "  warnings.warn(\n",
      "Python(48211) MallocStackLogging: can't turn off malloc stack logging because it was not enabled.\n",
      "Python(48212) MallocStackLogging: can't turn off malloc stack logging because it was not enabled.\n",
      "Python(48213) MallocStackLogging: can't turn off malloc stack logging because it was not enabled.\n",
      "Python(48214) MallocStackLogging: can't turn off malloc stack logging because it was not enabled.\n"
     ]
    },
    {
     "name": "stdout",
     "output_type": "stream",
     "text": [
      "test Loss: 0.0018 Acc: 1.0000\n",
      "Epoch 6/10\n",
      "----------\n"
     ]
    },
    {
     "name": "stderr",
     "output_type": "stream",
     "text": [
      "Python(48417) MallocStackLogging: can't turn off malloc stack logging because it was not enabled.\n",
      "Python(48418) MallocStackLogging: can't turn off malloc stack logging because it was not enabled.\n",
      "Python(48419) MallocStackLogging: can't turn off malloc stack logging because it was not enabled.\n",
      "Python(48420) MallocStackLogging: can't turn off malloc stack logging because it was not enabled.\n",
      "/opt/homebrew/lib/python3.11/site-packages/PIL/Image.py:981: UserWarning: Palette images with Transparency expressed in bytes should be converted to RGBA images\n",
      "  warnings.warn(\n",
      "Python(49698) MallocStackLogging: can't turn off malloc stack logging because it was not enabled.\n",
      "Python(49699) MallocStackLogging: can't turn off malloc stack logging because it was not enabled.\n",
      "Python(49700) MallocStackLogging: can't turn off malloc stack logging because it was not enabled.\n",
      "Python(49701) MallocStackLogging: can't turn off malloc stack logging because it was not enabled.\n"
     ]
    },
    {
     "name": "stdout",
     "output_type": "stream",
     "text": [
      "test Loss: 0.0015 Acc: 1.0000\n",
      "Epoch 7/10\n",
      "----------\n"
     ]
    },
    {
     "name": "stderr",
     "output_type": "stream",
     "text": [
      "Python(49926) MallocStackLogging: can't turn off malloc stack logging because it was not enabled.\n",
      "Python(49927) MallocStackLogging: can't turn off malloc stack logging because it was not enabled.\n",
      "Python(49928) MallocStackLogging: can't turn off malloc stack logging because it was not enabled.\n",
      "Python(49929) MallocStackLogging: can't turn off malloc stack logging because it was not enabled.\n",
      "/opt/homebrew/lib/python3.11/site-packages/PIL/Image.py:981: UserWarning: Palette images with Transparency expressed in bytes should be converted to RGBA images\n",
      "  warnings.warn(\n",
      "/opt/homebrew/lib/python3.11/site-packages/PIL/Image.py:981: UserWarning: Palette images with Transparency expressed in bytes should be converted to RGBA images\n",
      "  warnings.warn(\n",
      "Python(51034) MallocStackLogging: can't turn off malloc stack logging because it was not enabled.\n",
      "Python(51035) MallocStackLogging: can't turn off malloc stack logging because it was not enabled.\n",
      "Python(51036) MallocStackLogging: can't turn off malloc stack logging because it was not enabled.\n",
      "Python(51037) MallocStackLogging: can't turn off malloc stack logging because it was not enabled.\n"
     ]
    },
    {
     "name": "stdout",
     "output_type": "stream",
     "text": [
      "test Loss: 0.0015 Acc: 1.0000\n",
      "Epoch 8/10\n",
      "----------\n"
     ]
    },
    {
     "name": "stderr",
     "output_type": "stream",
     "text": [
      "Python(51273) MallocStackLogging: can't turn off malloc stack logging because it was not enabled.\n",
      "Python(51274) MallocStackLogging: can't turn off malloc stack logging because it was not enabled.\n",
      "Python(51275) MallocStackLogging: can't turn off malloc stack logging because it was not enabled.\n",
      "Python(51276) MallocStackLogging: can't turn off malloc stack logging because it was not enabled.\n",
      "/opt/homebrew/lib/python3.11/site-packages/PIL/Image.py:981: UserWarning: Palette images with Transparency expressed in bytes should be converted to RGBA images\n",
      "  warnings.warn(\n",
      "/opt/homebrew/lib/python3.11/site-packages/PIL/Image.py:981: UserWarning: Palette images with Transparency expressed in bytes should be converted to RGBA images\n",
      "  warnings.warn(\n",
      "Python(52372) MallocStackLogging: can't turn off malloc stack logging because it was not enabled.\n",
      "Python(52373) MallocStackLogging: can't turn off malloc stack logging because it was not enabled.\n",
      "Python(52374) MallocStackLogging: can't turn off malloc stack logging because it was not enabled.\n",
      "Python(52375) MallocStackLogging: can't turn off malloc stack logging because it was not enabled.\n"
     ]
    },
    {
     "name": "stdout",
     "output_type": "stream",
     "text": [
      "test Loss: 0.0014 Acc: 1.0000\n",
      "Epoch 9/10\n",
      "----------\n"
     ]
    },
    {
     "name": "stderr",
     "output_type": "stream",
     "text": [
      "Python(52595) MallocStackLogging: can't turn off malloc stack logging because it was not enabled.\n",
      "Python(52596) MallocStackLogging: can't turn off malloc stack logging because it was not enabled.\n",
      "Python(52597) MallocStackLogging: can't turn off malloc stack logging because it was not enabled.\n",
      "Python(52598) MallocStackLogging: can't turn off malloc stack logging because it was not enabled.\n",
      "/opt/homebrew/lib/python3.11/site-packages/PIL/Image.py:981: UserWarning: Palette images with Transparency expressed in bytes should be converted to RGBA images\n",
      "  warnings.warn(\n",
      "/opt/homebrew/lib/python3.11/site-packages/PIL/Image.py:981: UserWarning: Palette images with Transparency expressed in bytes should be converted to RGBA images\n",
      "  warnings.warn(\n",
      "Python(53687) MallocStackLogging: can't turn off malloc stack logging because it was not enabled.\n",
      "Python(53688) MallocStackLogging: can't turn off malloc stack logging because it was not enabled.\n",
      "Python(53689) MallocStackLogging: can't turn off malloc stack logging because it was not enabled.\n",
      "Python(53690) MallocStackLogging: can't turn off malloc stack logging because it was not enabled.\n"
     ]
    },
    {
     "name": "stdout",
     "output_type": "stream",
     "text": [
      "test Loss: 0.0012 Acc: 1.0000\n",
      "Epoch 10/10\n",
      "----------\n"
     ]
    },
    {
     "name": "stderr",
     "output_type": "stream",
     "text": [
      "Python(53892) MallocStackLogging: can't turn off malloc stack logging because it was not enabled.\n",
      "Python(53893) MallocStackLogging: can't turn off malloc stack logging because it was not enabled.\n",
      "Python(53894) MallocStackLogging: can't turn off malloc stack logging because it was not enabled.\n",
      "Python(53895) MallocStackLogging: can't turn off malloc stack logging because it was not enabled.\n",
      "/opt/homebrew/lib/python3.11/site-packages/PIL/Image.py:981: UserWarning: Palette images with Transparency expressed in bytes should be converted to RGBA images\n",
      "  warnings.warn(\n",
      "Python(55019) MallocStackLogging: can't turn off malloc stack logging because it was not enabled.\n",
      "Python(55020) MallocStackLogging: can't turn off malloc stack logging because it was not enabled.\n",
      "Python(55021) MallocStackLogging: can't turn off malloc stack logging because it was not enabled.\n",
      "Python(55022) MallocStackLogging: can't turn off malloc stack logging because it was not enabled.\n"
     ]
    },
    {
     "name": "stdout",
     "output_type": "stream",
     "text": [
      "test Loss: 0.0010 Acc: 1.0000\n",
      "Training complete in 25m 37s\n"
     ]
    },
    {
     "name": "stderr",
     "output_type": "stream",
     "text": [
      "Python(55242) MallocStackLogging: can't turn off malloc stack logging because it was not enabled.\n",
      "Python(55243) MallocStackLogging: can't turn off malloc stack logging because it was not enabled.\n",
      "Python(55244) MallocStackLogging: can't turn off malloc stack logging because it was not enabled.\n",
      "Python(55245) MallocStackLogging: can't turn off malloc stack logging because it was not enabled.\n"
     ]
    },
    {
     "name": "stdout",
     "output_type": "stream",
     "text": [
      "Training Time: 1536.87s\n",
      "Model Parameters: 134268738\n"
     ]
    },
    {
     "name": "stderr",
     "output_type": "stream",
     "text": [
      "/opt/homebrew/lib/python3.11/site-packages/torchvision/models/_utils.py:223: UserWarning: Arguments other than a weight enum or `None` for 'weights' are deprecated since 0.13 and may be removed in the future. The current behavior is equivalent to passing `weights=VGG19_Weights.IMAGENET1K_V1`. You can also use `weights=VGG19_Weights.DEFAULT` to get the most up-to-date weights.\n",
      "  warnings.warn(msg)\n",
      "Downloading: \"https://download.pytorch.org/models/vgg19-dcbb9e9d.pth\" to /Users/hk/.cache/torch/hub/checkpoints/vgg19-dcbb9e9d.pth\n",
      "100%|██████████| 548M/548M [01:59<00:00, 4.82MB/s] \n"
     ]
    },
    {
     "name": "stdout",
     "output_type": "stream",
     "text": [
      "Training vgg19...\n",
      "Epoch 1/10\n",
      "----------\n"
     ]
    },
    {
     "name": "stderr",
     "output_type": "stream",
     "text": [
      "Python(56495) MallocStackLogging: can't turn off malloc stack logging because it was not enabled.\n",
      "Python(56496) MallocStackLogging: can't turn off malloc stack logging because it was not enabled.\n",
      "Python(56497) MallocStackLogging: can't turn off malloc stack logging because it was not enabled.\n",
      "Python(56498) MallocStackLogging: can't turn off malloc stack logging because it was not enabled.\n",
      "/opt/homebrew/lib/python3.11/site-packages/PIL/Image.py:981: UserWarning: Palette images with Transparency expressed in bytes should be converted to RGBA images\n",
      "  warnings.warn(\n",
      "Python(56990) MallocStackLogging: can't turn off malloc stack logging because it was not enabled.\n",
      "Python(56991) MallocStackLogging: can't turn off malloc stack logging because it was not enabled.\n",
      "Python(56992) MallocStackLogging: can't turn off malloc stack logging because it was not enabled.\n",
      "Python(56993) MallocStackLogging: can't turn off malloc stack logging because it was not enabled.\n"
     ]
    },
    {
     "name": "stdout",
     "output_type": "stream",
     "text": [
      "test Loss: 0.0351 Acc: 1.0000\n",
      "Epoch 2/10\n",
      "----------\n"
     ]
    },
    {
     "name": "stderr",
     "output_type": "stream",
     "text": [
      "Python(57213) MallocStackLogging: can't turn off malloc stack logging because it was not enabled.\n",
      "Python(57214) MallocStackLogging: can't turn off malloc stack logging because it was not enabled.\n",
      "Python(57215) MallocStackLogging: can't turn off malloc stack logging because it was not enabled.\n",
      "Python(57216) MallocStackLogging: can't turn off malloc stack logging because it was not enabled.\n",
      "/opt/homebrew/lib/python3.11/site-packages/PIL/Image.py:981: UserWarning: Palette images with Transparency expressed in bytes should be converted to RGBA images\n",
      "  warnings.warn(\n",
      "Python(57709) MallocStackLogging: can't turn off malloc stack logging because it was not enabled.\n",
      "Python(57710) MallocStackLogging: can't turn off malloc stack logging because it was not enabled.\n",
      "Python(57711) MallocStackLogging: can't turn off malloc stack logging because it was not enabled.\n",
      "Python(57712) MallocStackLogging: can't turn off malloc stack logging because it was not enabled.\n"
     ]
    },
    {
     "name": "stdout",
     "output_type": "stream",
     "text": [
      "test Loss: 0.0171 Acc: 1.0000\n",
      "Epoch 3/10\n",
      "----------\n"
     ]
    },
    {
     "name": "stderr",
     "output_type": "stream",
     "text": [
      "Python(57957) MallocStackLogging: can't turn off malloc stack logging because it was not enabled.\n",
      "Python(57958) MallocStackLogging: can't turn off malloc stack logging because it was not enabled.\n",
      "Python(57959) MallocStackLogging: can't turn off malloc stack logging because it was not enabled.\n",
      "Python(57960) MallocStackLogging: can't turn off malloc stack logging because it was not enabled.\n",
      "/opt/homebrew/lib/python3.11/site-packages/PIL/Image.py:981: UserWarning: Palette images with Transparency expressed in bytes should be converted to RGBA images\n",
      "  warnings.warn(\n",
      "/opt/homebrew/lib/python3.11/site-packages/PIL/Image.py:981: UserWarning: Palette images with Transparency expressed in bytes should be converted to RGBA images\n",
      "  warnings.warn(\n",
      "Python(58442) MallocStackLogging: can't turn off malloc stack logging because it was not enabled.\n",
      "Python(58443) MallocStackLogging: can't turn off malloc stack logging because it was not enabled.\n",
      "Python(58444) MallocStackLogging: can't turn off malloc stack logging because it was not enabled.\n",
      "Python(58445) MallocStackLogging: can't turn off malloc stack logging because it was not enabled.\n"
     ]
    },
    {
     "name": "stdout",
     "output_type": "stream",
     "text": [
      "test Loss: 0.0117 Acc: 1.0000\n",
      "Epoch 4/10\n",
      "----------\n"
     ]
    },
    {
     "name": "stderr",
     "output_type": "stream",
     "text": [
      "Python(58679) MallocStackLogging: can't turn off malloc stack logging because it was not enabled.\n",
      "Python(58680) MallocStackLogging: can't turn off malloc stack logging because it was not enabled.\n",
      "Python(58681) MallocStackLogging: can't turn off malloc stack logging because it was not enabled.\n",
      "Python(58682) MallocStackLogging: can't turn off malloc stack logging because it was not enabled.\n",
      "/opt/homebrew/lib/python3.11/site-packages/PIL/Image.py:981: UserWarning: Palette images with Transparency expressed in bytes should be converted to RGBA images\n",
      "  warnings.warn(\n",
      "/opt/homebrew/lib/python3.11/site-packages/PIL/Image.py:981: UserWarning: Palette images with Transparency expressed in bytes should be converted to RGBA images\n",
      "  warnings.warn(\n",
      "Python(59202) MallocStackLogging: can't turn off malloc stack logging because it was not enabled.\n",
      "Python(59203) MallocStackLogging: can't turn off malloc stack logging because it was not enabled.\n",
      "Python(59204) MallocStackLogging: can't turn off malloc stack logging because it was not enabled.\n",
      "Python(59205) MallocStackLogging: can't turn off malloc stack logging because it was not enabled.\n"
     ]
    },
    {
     "name": "stdout",
     "output_type": "stream",
     "text": [
      "test Loss: 0.0099 Acc: 1.0000\n",
      "Epoch 5/10\n",
      "----------\n"
     ]
    },
    {
     "name": "stderr",
     "output_type": "stream",
     "text": [
      "Python(59457) MallocStackLogging: can't turn off malloc stack logging because it was not enabled.\n",
      "Python(59458) MallocStackLogging: can't turn off malloc stack logging because it was not enabled.\n",
      "Python(59459) MallocStackLogging: can't turn off malloc stack logging because it was not enabled.\n",
      "Python(59460) MallocStackLogging: can't turn off malloc stack logging because it was not enabled.\n",
      "/opt/homebrew/lib/python3.11/site-packages/PIL/Image.py:981: UserWarning: Palette images with Transparency expressed in bytes should be converted to RGBA images\n",
      "  warnings.warn(\n",
      "/opt/homebrew/lib/python3.11/site-packages/PIL/Image.py:981: UserWarning: Palette images with Transparency expressed in bytes should be converted to RGBA images\n",
      "  warnings.warn(\n",
      "Python(59934) MallocStackLogging: can't turn off malloc stack logging because it was not enabled.\n",
      "Python(59935) MallocStackLogging: can't turn off malloc stack logging because it was not enabled.\n",
      "Python(59936) MallocStackLogging: can't turn off malloc stack logging because it was not enabled.\n",
      "Python(59937) MallocStackLogging: can't turn off malloc stack logging because it was not enabled.\n"
     ]
    },
    {
     "name": "stdout",
     "output_type": "stream",
     "text": [
      "test Loss: 0.0087 Acc: 1.0000\n",
      "Epoch 6/10\n",
      "----------\n"
     ]
    },
    {
     "name": "stderr",
     "output_type": "stream",
     "text": [
      "Python(60178) MallocStackLogging: can't turn off malloc stack logging because it was not enabled.\n",
      "Python(60179) MallocStackLogging: can't turn off malloc stack logging because it was not enabled.\n",
      "Python(60180) MallocStackLogging: can't turn off malloc stack logging because it was not enabled.\n",
      "Python(60181) MallocStackLogging: can't turn off malloc stack logging because it was not enabled.\n",
      "/opt/homebrew/lib/python3.11/site-packages/PIL/Image.py:981: UserWarning: Palette images with Transparency expressed in bytes should be converted to RGBA images\n",
      "  warnings.warn(\n",
      "/opt/homebrew/lib/python3.11/site-packages/PIL/Image.py:981: UserWarning: Palette images with Transparency expressed in bytes should be converted to RGBA images\n",
      "  warnings.warn(\n",
      "Python(60693) MallocStackLogging: can't turn off malloc stack logging because it was not enabled.\n",
      "Python(60694) MallocStackLogging: can't turn off malloc stack logging because it was not enabled.\n",
      "Python(60695) MallocStackLogging: can't turn off malloc stack logging because it was not enabled.\n",
      "Python(60696) MallocStackLogging: can't turn off malloc stack logging because it was not enabled.\n"
     ]
    },
    {
     "name": "stdout",
     "output_type": "stream",
     "text": [
      "test Loss: 0.0081 Acc: 1.0000\n",
      "Epoch 7/10\n",
      "----------\n"
     ]
    },
    {
     "name": "stderr",
     "output_type": "stream",
     "text": [
      "Python(60938) MallocStackLogging: can't turn off malloc stack logging because it was not enabled.\n",
      "Python(60939) MallocStackLogging: can't turn off malloc stack logging because it was not enabled.\n",
      "Python(60940) MallocStackLogging: can't turn off malloc stack logging because it was not enabled.\n",
      "Python(60941) MallocStackLogging: can't turn off malloc stack logging because it was not enabled.\n",
      "/opt/homebrew/lib/python3.11/site-packages/PIL/Image.py:981: UserWarning: Palette images with Transparency expressed in bytes should be converted to RGBA images\n",
      "  warnings.warn(\n",
      "/opt/homebrew/lib/python3.11/site-packages/PIL/Image.py:981: UserWarning: Palette images with Transparency expressed in bytes should be converted to RGBA images\n",
      "  warnings.warn(\n",
      "Python(61454) MallocStackLogging: can't turn off malloc stack logging because it was not enabled.\n",
      "Python(61455) MallocStackLogging: can't turn off malloc stack logging because it was not enabled.\n",
      "Python(61456) MallocStackLogging: can't turn off malloc stack logging because it was not enabled.\n",
      "Python(61457) MallocStackLogging: can't turn off malloc stack logging because it was not enabled.\n"
     ]
    },
    {
     "name": "stdout",
     "output_type": "stream",
     "text": [
      "test Loss: 0.0081 Acc: 1.0000\n",
      "Epoch 8/10\n",
      "----------\n"
     ]
    },
    {
     "name": "stderr",
     "output_type": "stream",
     "text": [
      "Python(61681) MallocStackLogging: can't turn off malloc stack logging because it was not enabled.\n",
      "Python(61682) MallocStackLogging: can't turn off malloc stack logging because it was not enabled.\n",
      "Python(61683) MallocStackLogging: can't turn off malloc stack logging because it was not enabled.\n",
      "Python(61684) MallocStackLogging: can't turn off malloc stack logging because it was not enabled.\n",
      "/opt/homebrew/lib/python3.11/site-packages/PIL/Image.py:981: UserWarning: Palette images with Transparency expressed in bytes should be converted to RGBA images\n",
      "  warnings.warn(\n",
      "/opt/homebrew/lib/python3.11/site-packages/PIL/Image.py:981: UserWarning: Palette images with Transparency expressed in bytes should be converted to RGBA images\n",
      "  warnings.warn(\n",
      "Python(62181) MallocStackLogging: can't turn off malloc stack logging because it was not enabled.\n",
      "Python(62182) MallocStackLogging: can't turn off malloc stack logging because it was not enabled.\n",
      "Python(62183) MallocStackLogging: can't turn off malloc stack logging because it was not enabled.\n",
      "Python(62184) MallocStackLogging: can't turn off malloc stack logging because it was not enabled.\n"
     ]
    },
    {
     "name": "stdout",
     "output_type": "stream",
     "text": [
      "test Loss: 0.0077 Acc: 1.0000\n",
      "Epoch 9/10\n",
      "----------\n"
     ]
    },
    {
     "name": "stderr",
     "output_type": "stream",
     "text": [
      "Python(62426) MallocStackLogging: can't turn off malloc stack logging because it was not enabled.\n",
      "Python(62427) MallocStackLogging: can't turn off malloc stack logging because it was not enabled.\n",
      "Python(62428) MallocStackLogging: can't turn off malloc stack logging because it was not enabled.\n",
      "Python(62429) MallocStackLogging: can't turn off malloc stack logging because it was not enabled.\n",
      "/opt/homebrew/lib/python3.11/site-packages/PIL/Image.py:981: UserWarning: Palette images with Transparency expressed in bytes should be converted to RGBA images\n",
      "  warnings.warn(\n",
      "/opt/homebrew/lib/python3.11/site-packages/PIL/Image.py:981: UserWarning: Palette images with Transparency expressed in bytes should be converted to RGBA images\n",
      "  warnings.warn(\n",
      "Python(62944) MallocStackLogging: can't turn off malloc stack logging because it was not enabled.\n",
      "Python(62945) MallocStackLogging: can't turn off malloc stack logging because it was not enabled.\n",
      "Python(62946) MallocStackLogging: can't turn off malloc stack logging because it was not enabled.\n",
      "Python(62947) MallocStackLogging: can't turn off malloc stack logging because it was not enabled.\n"
     ]
    },
    {
     "name": "stdout",
     "output_type": "stream",
     "text": [
      "test Loss: 0.0071 Acc: 1.0000\n",
      "Epoch 10/10\n",
      "----------\n"
     ]
    },
    {
     "name": "stderr",
     "output_type": "stream",
     "text": [
      "Python(63191) MallocStackLogging: can't turn off malloc stack logging because it was not enabled.\n",
      "Python(63192) MallocStackLogging: can't turn off malloc stack logging because it was not enabled.\n",
      "Python(63193) MallocStackLogging: can't turn off malloc stack logging because it was not enabled.\n",
      "Python(63194) MallocStackLogging: can't turn off malloc stack logging because it was not enabled.\n",
      "/opt/homebrew/lib/python3.11/site-packages/PIL/Image.py:981: UserWarning: Palette images with Transparency expressed in bytes should be converted to RGBA images\n",
      "  warnings.warn(\n",
      "/opt/homebrew/lib/python3.11/site-packages/PIL/Image.py:981: UserWarning: Palette images with Transparency expressed in bytes should be converted to RGBA images\n",
      "  warnings.warn(\n",
      "Python(63729) MallocStackLogging: can't turn off malloc stack logging because it was not enabled.\n",
      "Python(63730) MallocStackLogging: can't turn off malloc stack logging because it was not enabled.\n",
      "Python(63731) MallocStackLogging: can't turn off malloc stack logging because it was not enabled.\n",
      "Python(63732) MallocStackLogging: can't turn off malloc stack logging because it was not enabled.\n"
     ]
    },
    {
     "name": "stdout",
     "output_type": "stream",
     "text": [
      "test Loss: 0.0069 Acc: 1.0000\n",
      "Training complete in 14m 1s\n"
     ]
    },
    {
     "name": "stderr",
     "output_type": "stream",
     "text": [
      "Python(63960) MallocStackLogging: can't turn off malloc stack logging because it was not enabled.\n",
      "Python(63961) MallocStackLogging: can't turn off malloc stack logging because it was not enabled.\n",
      "Python(63962) MallocStackLogging: can't turn off malloc stack logging because it was not enabled.\n",
      "Python(63963) MallocStackLogging: can't turn off malloc stack logging because it was not enabled.\n"
     ]
    },
    {
     "name": "stdout",
     "output_type": "stream",
     "text": [
      "Training Time: 840.57s\n",
      "Model Parameters: 139578434\n",
      "Training vgg19...\n",
      "Epoch 1/10\n",
      "----------\n"
     ]
    },
    {
     "name": "stderr",
     "output_type": "stream",
     "text": [
      "Python(64204) MallocStackLogging: can't turn off malloc stack logging because it was not enabled.\n",
      "Python(64205) MallocStackLogging: can't turn off malloc stack logging because it was not enabled.\n",
      "Python(64206) MallocStackLogging: can't turn off malloc stack logging because it was not enabled.\n",
      "Python(64207) MallocStackLogging: can't turn off malloc stack logging because it was not enabled.\n",
      "/opt/homebrew/lib/python3.11/site-packages/PIL/Image.py:981: UserWarning: Palette images with Transparency expressed in bytes should be converted to RGBA images\n",
      "  warnings.warn(\n",
      "Python(65446) MallocStackLogging: can't turn off malloc stack logging because it was not enabled.\n",
      "Python(65447) MallocStackLogging: can't turn off malloc stack logging because it was not enabled.\n",
      "Python(65448) MallocStackLogging: can't turn off malloc stack logging because it was not enabled.\n",
      "Python(65449) MallocStackLogging: can't turn off malloc stack logging because it was not enabled.\n"
     ]
    },
    {
     "name": "stdout",
     "output_type": "stream",
     "text": [
      "test Loss: 0.0214 Acc: 1.0000\n",
      "Epoch 2/10\n",
      "----------\n"
     ]
    },
    {
     "name": "stderr",
     "output_type": "stream",
     "text": [
      "Python(65725) MallocStackLogging: can't turn off malloc stack logging because it was not enabled.\n",
      "Python(65726) MallocStackLogging: can't turn off malloc stack logging because it was not enabled.\n",
      "Python(65727) MallocStackLogging: can't turn off malloc stack logging because it was not enabled.\n",
      "Python(65728) MallocStackLogging: can't turn off malloc stack logging because it was not enabled.\n",
      "/opt/homebrew/lib/python3.11/site-packages/PIL/Image.py:981: UserWarning: Palette images with Transparency expressed in bytes should be converted to RGBA images\n",
      "  warnings.warn(\n",
      "/opt/homebrew/lib/python3.11/site-packages/PIL/Image.py:981: UserWarning: Palette images with Transparency expressed in bytes should be converted to RGBA images\n",
      "  warnings.warn(\n",
      "Python(67384) MallocStackLogging: can't turn off malloc stack logging because it was not enabled.\n",
      "Python(67385) MallocStackLogging: can't turn off malloc stack logging because it was not enabled.\n",
      "Python(67386) MallocStackLogging: can't turn off malloc stack logging because it was not enabled.\n",
      "Python(67387) MallocStackLogging: can't turn off malloc stack logging because it was not enabled.\n"
     ]
    },
    {
     "name": "stdout",
     "output_type": "stream",
     "text": [
      "test Loss: 0.0037 Acc: 1.0000\n",
      "Epoch 3/10\n",
      "----------\n"
     ]
    },
    {
     "name": "stderr",
     "output_type": "stream",
     "text": [
      "Python(67625) MallocStackLogging: can't turn off malloc stack logging because it was not enabled.\n",
      "Python(67626) MallocStackLogging: can't turn off malloc stack logging because it was not enabled.\n",
      "Python(67627) MallocStackLogging: can't turn off malloc stack logging because it was not enabled.\n",
      "Python(67628) MallocStackLogging: can't turn off malloc stack logging because it was not enabled.\n",
      "/opt/homebrew/lib/python3.11/site-packages/PIL/Image.py:981: UserWarning: Palette images with Transparency expressed in bytes should be converted to RGBA images\n",
      "  warnings.warn(\n",
      "/opt/homebrew/lib/python3.11/site-packages/PIL/Image.py:981: UserWarning: Palette images with Transparency expressed in bytes should be converted to RGBA images\n",
      "  warnings.warn(\n",
      "Python(68892) MallocStackLogging: can't turn off malloc stack logging because it was not enabled.\n",
      "Python(68893) MallocStackLogging: can't turn off malloc stack logging because it was not enabled.\n",
      "Python(68894) MallocStackLogging: can't turn off malloc stack logging because it was not enabled.\n",
      "Python(68895) MallocStackLogging: can't turn off malloc stack logging because it was not enabled.\n"
     ]
    },
    {
     "name": "stdout",
     "output_type": "stream",
     "text": [
      "test Loss: 0.0024 Acc: 1.0000\n",
      "Epoch 4/10\n",
      "----------\n"
     ]
    },
    {
     "name": "stderr",
     "output_type": "stream",
     "text": [
      "Python(69135) MallocStackLogging: can't turn off malloc stack logging because it was not enabled.\n",
      "Python(69136) MallocStackLogging: can't turn off malloc stack logging because it was not enabled.\n",
      "Python(69137) MallocStackLogging: can't turn off malloc stack logging because it was not enabled.\n",
      "Python(69138) MallocStackLogging: can't turn off malloc stack logging because it was not enabled.\n",
      "/opt/homebrew/lib/python3.11/site-packages/PIL/Image.py:981: UserWarning: Palette images with Transparency expressed in bytes should be converted to RGBA images\n",
      "  warnings.warn(\n",
      "/opt/homebrew/lib/python3.11/site-packages/PIL/Image.py:981: UserWarning: Palette images with Transparency expressed in bytes should be converted to RGBA images\n",
      "  warnings.warn(\n",
      "Python(70528) MallocStackLogging: can't turn off malloc stack logging because it was not enabled.\n",
      "Python(70529) MallocStackLogging: can't turn off malloc stack logging because it was not enabled.\n",
      "Python(70530) MallocStackLogging: can't turn off malloc stack logging because it was not enabled.\n",
      "Python(70531) MallocStackLogging: can't turn off malloc stack logging because it was not enabled.\n"
     ]
    },
    {
     "name": "stdout",
     "output_type": "stream",
     "text": [
      "test Loss: 0.0030 Acc: 1.0000\n",
      "Epoch 5/10\n",
      "----------\n"
     ]
    },
    {
     "name": "stderr",
     "output_type": "stream",
     "text": [
      "Python(70753) MallocStackLogging: can't turn off malloc stack logging because it was not enabled.\n",
      "Python(70754) MallocStackLogging: can't turn off malloc stack logging because it was not enabled.\n",
      "Python(70755) MallocStackLogging: can't turn off malloc stack logging because it was not enabled.\n",
      "Python(70756) MallocStackLogging: can't turn off malloc stack logging because it was not enabled.\n",
      "/opt/homebrew/lib/python3.11/site-packages/PIL/Image.py:981: UserWarning: Palette images with Transparency expressed in bytes should be converted to RGBA images\n",
      "  warnings.warn(\n",
      "Python(72165) MallocStackLogging: can't turn off malloc stack logging because it was not enabled.\n",
      "Python(72166) MallocStackLogging: can't turn off malloc stack logging because it was not enabled.\n",
      "Python(72167) MallocStackLogging: can't turn off malloc stack logging because it was not enabled.\n",
      "Python(72168) MallocStackLogging: can't turn off malloc stack logging because it was not enabled.\n"
     ]
    },
    {
     "name": "stdout",
     "output_type": "stream",
     "text": [
      "test Loss: 0.0027 Acc: 1.0000\n",
      "Epoch 6/10\n",
      "----------\n"
     ]
    },
    {
     "name": "stderr",
     "output_type": "stream",
     "text": [
      "Python(72395) MallocStackLogging: can't turn off malloc stack logging because it was not enabled.\n",
      "Python(72396) MallocStackLogging: can't turn off malloc stack logging because it was not enabled.\n",
      "Python(72397) MallocStackLogging: can't turn off malloc stack logging because it was not enabled.\n",
      "Python(72398) MallocStackLogging: can't turn off malloc stack logging because it was not enabled.\n",
      "/opt/homebrew/lib/python3.11/site-packages/PIL/Image.py:981: UserWarning: Palette images with Transparency expressed in bytes should be converted to RGBA images\n",
      "  warnings.warn(\n",
      "/opt/homebrew/lib/python3.11/site-packages/PIL/Image.py:981: UserWarning: Palette images with Transparency expressed in bytes should be converted to RGBA images\n",
      "  warnings.warn(\n",
      "Python(73680) MallocStackLogging: can't turn off malloc stack logging because it was not enabled.\n",
      "Python(73681) MallocStackLogging: can't turn off malloc stack logging because it was not enabled.\n",
      "Python(73682) MallocStackLogging: can't turn off malloc stack logging because it was not enabled.\n",
      "Python(73683) MallocStackLogging: can't turn off malloc stack logging because it was not enabled.\n"
     ]
    },
    {
     "name": "stdout",
     "output_type": "stream",
     "text": [
      "test Loss: 0.0023 Acc: 1.0000\n",
      "Epoch 7/10\n",
      "----------\n"
     ]
    },
    {
     "name": "stderr",
     "output_type": "stream",
     "text": [
      "Python(73924) MallocStackLogging: can't turn off malloc stack logging because it was not enabled.\n",
      "Python(73925) MallocStackLogging: can't turn off malloc stack logging because it was not enabled.\n",
      "Python(73926) MallocStackLogging: can't turn off malloc stack logging because it was not enabled.\n",
      "Python(73927) MallocStackLogging: can't turn off malloc stack logging because it was not enabled.\n",
      "/opt/homebrew/lib/python3.11/site-packages/PIL/Image.py:981: UserWarning: Palette images with Transparency expressed in bytes should be converted to RGBA images\n",
      "  warnings.warn(\n",
      "/opt/homebrew/lib/python3.11/site-packages/PIL/Image.py:981: UserWarning: Palette images with Transparency expressed in bytes should be converted to RGBA images\n",
      "  warnings.warn(\n",
      "Python(75230) MallocStackLogging: can't turn off malloc stack logging because it was not enabled.\n",
      "Python(75231) MallocStackLogging: can't turn off malloc stack logging because it was not enabled.\n",
      "Python(75232) MallocStackLogging: can't turn off malloc stack logging because it was not enabled.\n",
      "Python(75233) MallocStackLogging: can't turn off malloc stack logging because it was not enabled.\n"
     ]
    },
    {
     "name": "stdout",
     "output_type": "stream",
     "text": [
      "test Loss: 0.0021 Acc: 1.0000\n",
      "Epoch 8/10\n",
      "----------\n"
     ]
    },
    {
     "name": "stderr",
     "output_type": "stream",
     "text": [
      "Python(75471) MallocStackLogging: can't turn off malloc stack logging because it was not enabled.\n",
      "Python(75472) MallocStackLogging: can't turn off malloc stack logging because it was not enabled.\n",
      "Python(75473) MallocStackLogging: can't turn off malloc stack logging because it was not enabled.\n",
      "Python(75474) MallocStackLogging: can't turn off malloc stack logging because it was not enabled.\n",
      "/opt/homebrew/lib/python3.11/site-packages/PIL/Image.py:981: UserWarning: Palette images with Transparency expressed in bytes should be converted to RGBA images\n",
      "  warnings.warn(\n",
      "/opt/homebrew/lib/python3.11/site-packages/PIL/Image.py:981: UserWarning: Palette images with Transparency expressed in bytes should be converted to RGBA images\n",
      "  warnings.warn(\n",
      "Python(76764) MallocStackLogging: can't turn off malloc stack logging because it was not enabled.\n",
      "Python(76765) MallocStackLogging: can't turn off malloc stack logging because it was not enabled.\n",
      "Python(76766) MallocStackLogging: can't turn off malloc stack logging because it was not enabled.\n",
      "Python(76767) MallocStackLogging: can't turn off malloc stack logging because it was not enabled.\n"
     ]
    },
    {
     "name": "stdout",
     "output_type": "stream",
     "text": [
      "test Loss: 0.0020 Acc: 1.0000\n",
      "Epoch 9/10\n",
      "----------\n"
     ]
    },
    {
     "name": "stderr",
     "output_type": "stream",
     "text": [
      "Python(77017) MallocStackLogging: can't turn off malloc stack logging because it was not enabled.\n",
      "Python(77018) MallocStackLogging: can't turn off malloc stack logging because it was not enabled.\n",
      "Python(77019) MallocStackLogging: can't turn off malloc stack logging because it was not enabled.\n",
      "Python(77020) MallocStackLogging: can't turn off malloc stack logging because it was not enabled.\n",
      "/opt/homebrew/lib/python3.11/site-packages/PIL/Image.py:981: UserWarning: Palette images with Transparency expressed in bytes should be converted to RGBA images\n",
      "  warnings.warn(\n",
      "Python(78360) MallocStackLogging: can't turn off malloc stack logging because it was not enabled.\n",
      "Python(78361) MallocStackLogging: can't turn off malloc stack logging because it was not enabled.\n",
      "Python(78362) MallocStackLogging: can't turn off malloc stack logging because it was not enabled.\n",
      "Python(78363) MallocStackLogging: can't turn off malloc stack logging because it was not enabled.\n"
     ]
    },
    {
     "name": "stdout",
     "output_type": "stream",
     "text": [
      "test Loss: 0.0019 Acc: 1.0000\n",
      "Epoch 10/10\n",
      "----------\n"
     ]
    },
    {
     "name": "stderr",
     "output_type": "stream",
     "text": [
      "Python(78585) MallocStackLogging: can't turn off malloc stack logging because it was not enabled.\n",
      "Python(78586) MallocStackLogging: can't turn off malloc stack logging because it was not enabled.\n",
      "Python(78587) MallocStackLogging: can't turn off malloc stack logging because it was not enabled.\n",
      "Python(78588) MallocStackLogging: can't turn off malloc stack logging because it was not enabled.\n",
      "/opt/homebrew/lib/python3.11/site-packages/PIL/Image.py:981: UserWarning: Palette images with Transparency expressed in bytes should be converted to RGBA images\n",
      "  warnings.warn(\n",
      "/opt/homebrew/lib/python3.11/site-packages/PIL/Image.py:981: UserWarning: Palette images with Transparency expressed in bytes should be converted to RGBA images\n",
      "  warnings.warn(\n",
      "Python(79954) MallocStackLogging: can't turn off malloc stack logging because it was not enabled.\n",
      "Python(79955) MallocStackLogging: can't turn off malloc stack logging because it was not enabled.\n",
      "Python(79956) MallocStackLogging: can't turn off malloc stack logging because it was not enabled.\n",
      "Python(79957) MallocStackLogging: can't turn off malloc stack logging because it was not enabled.\n"
     ]
    },
    {
     "name": "stdout",
     "output_type": "stream",
     "text": [
      "test Loss: 0.0017 Acc: 1.0000\n",
      "Training complete in 29m 38s\n"
     ]
    },
    {
     "name": "stderr",
     "output_type": "stream",
     "text": [
      "Python(80179) MallocStackLogging: can't turn off malloc stack logging because it was not enabled.\n",
      "Python(80180) MallocStackLogging: can't turn off malloc stack logging because it was not enabled.\n",
      "Python(80181) MallocStackLogging: can't turn off malloc stack logging because it was not enabled.\n",
      "Python(80182) MallocStackLogging: can't turn off malloc stack logging because it was not enabled.\n"
     ]
    },
    {
     "name": "stdout",
     "output_type": "stream",
     "text": [
      "Training Time: 1777.54s\n",
      "Model Parameters: 139578434\n",
      "\n",
      "--- Results Summary ---\n",
      "vgg1block:\n"
     ]
    },
    {
     "ename": "KeyError",
     "evalue": "'test_accuracy'",
     "output_type": "error",
     "traceback": [
      "\u001b[0;31m---------------------------------------------------------------------------\u001b[0m",
      "\u001b[0;31mKeyError\u001b[0m                                  Traceback (most recent call last)",
      "Cell \u001b[0;32mIn[7], line 54\u001b[0m\n\u001b[1;32m     52\u001b[0m \u001b[38;5;28;01mfor\u001b[39;00m model_name, metrics \u001b[38;5;129;01min\u001b[39;00m results\u001b[38;5;241m.\u001b[39mitems():\n\u001b[1;32m     53\u001b[0m     \u001b[38;5;28mprint\u001b[39m(\u001b[38;5;124mf\u001b[39m\u001b[38;5;124m\"\u001b[39m\u001b[38;5;132;01m{\u001b[39;00mmodel_name\u001b[38;5;132;01m}\u001b[39;00m\u001b[38;5;124m:\u001b[39m\u001b[38;5;124m\"\u001b[39m)\n\u001b[0;32m---> 54\u001b[0m     \u001b[38;5;28mprint\u001b[39m(\u001b[38;5;124mf\u001b[39m\u001b[38;5;124m\"\u001b[39m\u001b[38;5;124m  Test Accuracy: \u001b[39m\u001b[38;5;132;01m{\u001b[39;00m\u001b[43mmetrics\u001b[49m\u001b[43m[\u001b[49m\u001b[38;5;124;43m'\u001b[39;49m\u001b[38;5;124;43mtest_accuracy\u001b[39;49m\u001b[38;5;124;43m'\u001b[39;49m\u001b[43m]\u001b[49m\u001b[38;5;132;01m:\u001b[39;00m\u001b[38;5;124m.2f\u001b[39m\u001b[38;5;132;01m}\u001b[39;00m\u001b[38;5;124m%\u001b[39m\u001b[38;5;124m\"\u001b[39m)\n\u001b[1;32m     55\u001b[0m     \u001b[38;5;28mprint\u001b[39m(\u001b[38;5;124mf\u001b[39m\u001b[38;5;124m\"\u001b[39m\u001b[38;5;124m  Training Time: \u001b[39m\u001b[38;5;132;01m{\u001b[39;00mmetrics[\u001b[38;5;124m'\u001b[39m\u001b[38;5;124mtraining_time\u001b[39m\u001b[38;5;124m'\u001b[39m]\u001b[38;5;132;01m:\u001b[39;00m\u001b[38;5;124m.2f\u001b[39m\u001b[38;5;132;01m}\u001b[39;00m\u001b[38;5;124ms\u001b[39m\u001b[38;5;124m\"\u001b[39m)\n\u001b[1;32m     57\u001b[0m     \u001b[38;5;28mprint\u001b[39m(\u001b[38;5;124mf\u001b[39m\u001b[38;5;124m\"\u001b[39m\u001b[38;5;124m  Number of Parameters: \u001b[39m\u001b[38;5;132;01m{\u001b[39;00mmetrics[\u001b[38;5;124m'\u001b[39m\u001b[38;5;124mnum_params\u001b[39m\u001b[38;5;124m'\u001b[39m]\u001b[38;5;132;01m}\u001b[39;00m\u001b[38;5;124m\"\u001b[39m)\n",
      "\u001b[0;31mKeyError\u001b[0m: 'test_accuracy'"
     ]
    }
   ],
   "source": [
    "models_to_train = [\n",
    "    (\"vgg1block\", False),  # VGG 1-block, no tuning of conv layers\n",
    "    (\"vgg3block\", False),  # VGG 3-block, no tuning of conv layers\n",
    "    (\"vgg3block\", True),   # VGG 3-block, fine-tune all layers\n",
    "    (\"vgg16\", False),      # VGG16, only fine-tune classifier\n",
    "    (\"vgg16\", True),       # VGG16, fine-tune all layers\n",
    "    (\"vgg19\", False),      # VGG19, only fine-tune classifier\n",
    "    (\"vgg19\", True),       # VGG19, fine-tune all layers\n",
    "]\n",
    "\n",
    "results = {}\n",
    "for model_name, tune_all_layers in models_to_train:\n",
    "    model = initialize_model(model_name, len(class_names), tune_all_layers=tune_all_layers)\n",
    "    criterion = nn.CrossEntropyLoss()\n",
    "    optimizer = optim.SGD(model.parameters(), lr=0.001, momentum=0.9)  # Or Adam, etc.\n",
    "\n",
    "    print(f\"Training {model_name}...\")\n",
    "    trained_model, training_time, num_params, best_acc = train_model(model, criterion, optimizer, num_epochs=epochs) # Get metrics\n",
    "\n",
    "    # --- Evaluation ---\n",
    "    correct = 0\n",
    "    total = 0\n",
    "    with torch.no_grad():\n",
    "        for inputs, labels in dataloaders['test']:\n",
    "            inputs = inputs.to(device)\n",
    "            labels = labels.to(device)\n",
    "            outputs = trained_model(inputs)\n",
    "            _, predicted = torch.max(outputs.data, 1)\n",
    "            total += labels.size(0)\n",
    "            correct += (predicted == labels).sum().item()\n",
    "\n",
    "    # --- Evaluation --- (Your evaluation code remains the same)\n",
    "\n",
    "\n",
    "    print(f'Training Time: {training_time:.2f}s')\n",
    "    print(f'Model Parameters: {num_params}')\n",
    "\n",
    "\n",
    "\n",
    "    results[model_name + (\"_finetuned\" if tune_all_layers else \"\")] = {\n",
    "        \"training_time\": training_time,\n",
    "        \"num_params\": num_params,\n",
    "    } #Store other metrics\n",
    "\n",
    "\n",
    "\n",
    "    torch.save(model.state_dict(), f\"{model_name}{'_finetuned' if tune_all_layers else ''}_model.pth\")\n",
    "\n",
    "\n",
    "# --- Print Results Summary ---\n",
    "print(\"\\n--- Results Summary ---\")\n",
    "for model_name, metrics in results.items():\n",
    "    print(f\"{model_name}:\")\n",
    "    print(f\"  Test Accuracy: {metrics['test_accuracy']:.2f}%\")\n",
    "    print(f\"  Training Time: {metrics['training_time']:.2f}s\")\n",
    "\n",
    "    print(f\"  Number of Parameters: {metrics['num_params']}\")\n",
    "\n",
    "\n",
    "writer.close()"
   ]
  },
  {
   "cell_type": "code",
   "execution_count": 45,
   "metadata": {},
   "outputs": [
    {
     "name": "stdout",
     "output_type": "stream",
     "text": [
      "Test Accuracy for vgg1block: 68.75%\n"
     ]
    }
   ],
   "source": [
    "with torch.no_grad():\n",
    "    for inputs, labels in dataloaders['test']:\n",
    "        inputs = inputs.to(device)\n",
    "        labels = labels.to(device)\n",
    "        outputs = model(inputs)\n",
    "        _, predicted = torch.max(outputs.data, 1)\n",
    "        total += labels.size(0)\n",
    "        correct += (predicted == labels).sum().item()\n",
    "\n",
    "    test_accuracy = 100 * correct / total\n",
    "    print(f\"Test Accuracy for {model_name}: {test_accuracy:.2f}%\")"
   ]
  },
  {
   "cell_type": "code",
   "execution_count": 11,
   "metadata": {},
   "outputs": [
    {
     "name": "stderr",
     "output_type": "stream",
     "text": [
      "Python(64036) MallocStackLogging: can't turn off malloc stack logging because it was not enabled.\n",
      "Python(64037) MallocStackLogging: can't turn off malloc stack logging because it was not enabled.\n",
      "Python(64038) MallocStackLogging: can't turn off malloc stack logging because it was not enabled.\n",
      "Python(64039) MallocStackLogging: can't turn off malloc stack logging because it was not enabled.\n",
      "/opt/homebrew/lib/python3.11/site-packages/PIL/Image.py:981: UserWarning: Palette images with Transparency expressed in bytes should be converted to RGBA images\n",
      "  warnings.warn(\n",
      "/opt/homebrew/lib/python3.11/site-packages/PIL/Image.py:981: UserWarning: Palette images with Transparency expressed in bytes should be converted to RGBA images\n",
      "  warnings.warn(\n"
     ]
    },
    {
     "name": "stdout",
     "output_type": "stream",
     "text": [
      "0.6614471077919006\n",
      "183.44561767578125\n",
      "1276.3084716796875\n",
      "220.99127197265625\n",
      "236.43435668945312\n",
      "56.1220703125\n",
      "45.41236114501953\n",
      "48.37205123901367\n",
      "18.813697814941406\n",
      "18.798038482666016\n"
     ]
    },
    {
     "name": "stderr",
     "output_type": "stream",
     "text": [
      "Python(65152) MallocStackLogging: can't turn off malloc stack logging because it was not enabled.\n",
      "Python(65153) MallocStackLogging: can't turn off malloc stack logging because it was not enabled.\n",
      "Python(65154) MallocStackLogging: can't turn off malloc stack logging because it was not enabled.\n",
      "Python(65155) MallocStackLogging: can't turn off malloc stack logging because it was not enabled.\n",
      "/opt/homebrew/lib/python3.11/site-packages/PIL/Image.py:981: UserWarning: Palette images with Transparency expressed in bytes should be converted to RGBA images\n",
      "  warnings.warn(\n",
      "/opt/homebrew/lib/python3.11/site-packages/PIL/Image.py:981: UserWarning: Palette images with Transparency expressed in bytes should be converted to RGBA images\n",
      "  warnings.warn(\n"
     ]
    },
    {
     "name": "stdout",
     "output_type": "stream",
     "text": [
      "7.215029716491699\n",
      "8.938691139221191\n",
      "2.562096357345581\n",
      "24.747127532958984\n",
      "15.999265670776367\n",
      "10.79984188079834\n",
      "5.667522430419922\n",
      "5.385320663452148\n",
      "4.45949649810791\n",
      "1.3000036478042603\n"
     ]
    },
    {
     "name": "stderr",
     "output_type": "stream",
     "text": [
      "Python(65865) MallocStackLogging: can't turn off malloc stack logging because it was not enabled.\n",
      "Python(65866) MallocStackLogging: can't turn off malloc stack logging because it was not enabled.\n",
      "Python(65867) MallocStackLogging: can't turn off malloc stack logging because it was not enabled.\n",
      "Python(65868) MallocStackLogging: can't turn off malloc stack logging because it was not enabled.\n",
      "/opt/homebrew/lib/python3.11/site-packages/PIL/Image.py:981: UserWarning: Palette images with Transparency expressed in bytes should be converted to RGBA images\n",
      "  warnings.warn(\n",
      "/opt/homebrew/lib/python3.11/site-packages/PIL/Image.py:981: UserWarning: Palette images with Transparency expressed in bytes should be converted to RGBA images\n",
      "  warnings.warn(\n"
     ]
    },
    {
     "name": "stdout",
     "output_type": "stream",
     "text": [
      "1.9293864965438843\n",
      "1.6662133932113647\n",
      "34.20227813720703\n",
      "0.6401675939559937\n",
      "11.848121643066406\n",
      "0.9717129468917847\n",
      "3.6874325275421143\n",
      "0.9029141664505005\n",
      "3.261698007583618\n",
      "1.0596843957901\n"
     ]
    },
    {
     "name": "stderr",
     "output_type": "stream",
     "text": [
      "Python(66577) MallocStackLogging: can't turn off malloc stack logging because it was not enabled.\n",
      "Python(66578) MallocStackLogging: can't turn off malloc stack logging because it was not enabled.\n",
      "Python(66579) MallocStackLogging: can't turn off malloc stack logging because it was not enabled.\n",
      "Python(66580) MallocStackLogging: can't turn off malloc stack logging because it was not enabled.\n",
      "/opt/homebrew/lib/python3.11/site-packages/PIL/Image.py:981: UserWarning: Palette images with Transparency expressed in bytes should be converted to RGBA images\n",
      "  warnings.warn(\n",
      "/opt/homebrew/lib/python3.11/site-packages/PIL/Image.py:981: UserWarning: Palette images with Transparency expressed in bytes should be converted to RGBA images\n",
      "  warnings.warn(\n"
     ]
    },
    {
     "name": "stdout",
     "output_type": "stream",
     "text": [
      "0.6810304522514343\n",
      "7.361234188079834\n",
      "10.931928634643555\n",
      "1.2997798919677734\n",
      "0.42950427532196045\n",
      "0.3218592405319214\n",
      "0.1878766566514969\n",
      "1.4233707189559937\n",
      "0.4269046187400818\n",
      "0.05597085878252983\n"
     ]
    },
    {
     "name": "stderr",
     "output_type": "stream",
     "text": [
      "Python(67191) MallocStackLogging: can't turn off malloc stack logging because it was not enabled.\n",
      "Python(67192) MallocStackLogging: can't turn off malloc stack logging because it was not enabled.\n",
      "Python(67193) MallocStackLogging: can't turn off malloc stack logging because it was not enabled.\n",
      "Python(67194) MallocStackLogging: can't turn off malloc stack logging because it was not enabled.\n",
      "/opt/homebrew/lib/python3.11/site-packages/PIL/Image.py:981: UserWarning: Palette images with Transparency expressed in bytes should be converted to RGBA images\n",
      "  warnings.warn(\n",
      "/opt/homebrew/lib/python3.11/site-packages/PIL/Image.py:981: UserWarning: Palette images with Transparency expressed in bytes should be converted to RGBA images\n",
      "  warnings.warn(\n"
     ]
    },
    {
     "name": "stdout",
     "output_type": "stream",
     "text": [
      "0.13017457723617554\n",
      "1.8433418273925781\n",
      "0.19624483585357666\n",
      "0.2536090612411499\n",
      "16.561283111572266\n",
      "0.17372435331344604\n",
      "1.1255488395690918\n",
      "0.21579688787460327\n",
      "0.2747834324836731\n",
      "0.050182923674583435\n"
     ]
    },
    {
     "name": "stderr",
     "output_type": "stream",
     "text": [
      "Python(68042) MallocStackLogging: can't turn off malloc stack logging because it was not enabled.\n",
      "Python(68043) MallocStackLogging: can't turn off malloc stack logging because it was not enabled.\n",
      "Python(68044) MallocStackLogging: can't turn off malloc stack logging because it was not enabled.\n",
      "Python(68045) MallocStackLogging: can't turn off malloc stack logging because it was not enabled.\n",
      "/opt/homebrew/lib/python3.11/site-packages/PIL/Image.py:981: UserWarning: Palette images with Transparency expressed in bytes should be converted to RGBA images\n",
      "  warnings.warn(\n",
      "/opt/homebrew/lib/python3.11/site-packages/PIL/Image.py:981: UserWarning: Palette images with Transparency expressed in bytes should be converted to RGBA images\n",
      "  warnings.warn(\n"
     ]
    },
    {
     "name": "stdout",
     "output_type": "stream",
     "text": [
      "3.832322359085083\n",
      "2.682708978652954\n",
      "0.25406354665756226\n",
      "0.4187234938144684\n",
      "0.25396278500556946\n",
      "0.2081458419561386\n",
      "0.030056407675147057\n",
      "0.08302033692598343\n",
      "0.20347627997398376\n",
      "0.08707575500011444\n"
     ]
    },
    {
     "name": "stderr",
     "output_type": "stream",
     "text": [
      "Python(68780) MallocStackLogging: can't turn off malloc stack logging because it was not enabled.\n",
      "Python(68781) MallocStackLogging: can't turn off malloc stack logging because it was not enabled.\n",
      "Python(68782) MallocStackLogging: can't turn off malloc stack logging because it was not enabled.\n",
      "Python(68783) MallocStackLogging: can't turn off malloc stack logging because it was not enabled.\n",
      "/opt/homebrew/lib/python3.11/site-packages/PIL/Image.py:981: UserWarning: Palette images with Transparency expressed in bytes should be converted to RGBA images\n",
      "  warnings.warn(\n",
      "/opt/homebrew/lib/python3.11/site-packages/PIL/Image.py:981: UserWarning: Palette images with Transparency expressed in bytes should be converted to RGBA images\n",
      "  warnings.warn(\n"
     ]
    },
    {
     "name": "stdout",
     "output_type": "stream",
     "text": [
      "11.704817771911621\n",
      "4.8443403244018555\n",
      "0.11940516531467438\n",
      "0.2375337928533554\n",
      "0.14553150534629822\n",
      "7.379688739776611\n",
      "9.925775527954102\n",
      "0.018911447376012802\n",
      "0.035143036395311356\n",
      "0.030294174328446388\n"
     ]
    },
    {
     "name": "stderr",
     "output_type": "stream",
     "text": [
      "Python(69463) MallocStackLogging: can't turn off malloc stack logging because it was not enabled.\n",
      "Python(69464) MallocStackLogging: can't turn off malloc stack logging because it was not enabled.\n",
      "Python(69465) MallocStackLogging: can't turn off malloc stack logging because it was not enabled.\n",
      "Python(69466) MallocStackLogging: can't turn off malloc stack logging because it was not enabled.\n",
      "/opt/homebrew/lib/python3.11/site-packages/PIL/Image.py:981: UserWarning: Palette images with Transparency expressed in bytes should be converted to RGBA images\n",
      "  warnings.warn(\n"
     ]
    },
    {
     "name": "stdout",
     "output_type": "stream",
     "text": [
      "1.5662784576416016\n",
      "0.18176357448101044\n",
      "0.7234828472137451\n",
      "0.29315754771232605\n",
      "1.0734360218048096\n",
      "1.1299101114273071\n",
      "0.3411537706851959\n",
      "0.581539511680603\n",
      "0.9749850034713745\n",
      "0.09452828019857407\n"
     ]
    },
    {
     "name": "stderr",
     "output_type": "stream",
     "text": [
      "Python(70107) MallocStackLogging: can't turn off malloc stack logging because it was not enabled.\n",
      "Python(70108) MallocStackLogging: can't turn off malloc stack logging because it was not enabled.\n",
      "Python(70109) MallocStackLogging: can't turn off malloc stack logging because it was not enabled.\n",
      "Python(70110) MallocStackLogging: can't turn off malloc stack logging because it was not enabled.\n",
      "/opt/homebrew/lib/python3.11/site-packages/PIL/Image.py:981: UserWarning: Palette images with Transparency expressed in bytes should be converted to RGBA images\n",
      "  warnings.warn(\n",
      "/opt/homebrew/lib/python3.11/site-packages/PIL/Image.py:981: UserWarning: Palette images with Transparency expressed in bytes should be converted to RGBA images\n",
      "  warnings.warn(\n"
     ]
    },
    {
     "name": "stdout",
     "output_type": "stream",
     "text": [
      "2.3941235542297363\n",
      "0.14534099400043488\n",
      "0.32568085193634033\n",
      "0.13953596353530884\n",
      "0.23032155632972717\n",
      "0.10711938142776489\n",
      "0.21224258840084076\n",
      "0.05438525974750519\n",
      "0.5531640648841858\n",
      "0.03248869627714157\n"
     ]
    },
    {
     "name": "stderr",
     "output_type": "stream",
     "text": [
      "Python(70745) MallocStackLogging: can't turn off malloc stack logging because it was not enabled.\n",
      "Python(70746) MallocStackLogging: can't turn off malloc stack logging because it was not enabled.\n",
      "Python(70747) MallocStackLogging: can't turn off malloc stack logging because it was not enabled.\n",
      "Python(70748) MallocStackLogging: can't turn off malloc stack logging because it was not enabled.\n",
      "/opt/homebrew/lib/python3.11/site-packages/PIL/Image.py:981: UserWarning: Palette images with Transparency expressed in bytes should be converted to RGBA images\n",
      "  warnings.warn(\n",
      "/opt/homebrew/lib/python3.11/site-packages/PIL/Image.py:981: UserWarning: Palette images with Transparency expressed in bytes should be converted to RGBA images\n",
      "  warnings.warn(\n"
     ]
    },
    {
     "name": "stdout",
     "output_type": "stream",
     "text": [
      "0.24081912636756897\n",
      "0.09824293106794357\n",
      "0.009132783859968185\n",
      "0.0744587779045105\n",
      "0.15178710222244263\n",
      "0.46306511759757996\n",
      "0.14261268079280853\n",
      "0.06260806322097778\n",
      "0.13368014991283417\n",
      "0.06060353294014931\n"
     ]
    }
   ],
   "source": [
    "image_size = 224\n",
    "num_classes = 2\n",
    "learning_rate = 0.001\n",
    "num_epochs = 10\n",
    "\n",
    "# Define the MLP model\n",
    "class LargeMLP(nn.Module):\n",
    "    def __init__(self, input_size, hidden_size1, hidden_size2, num_classes):  # More flexible initialization\n",
    "        super(LargeMLP, self).__init__()\n",
    "        self.flatten = nn.Flatten()\n",
    "        self.fc1 = nn.Linear(input_size, hidden_size1)\n",
    "        self.relu = nn.ReLU()\n",
    "        self.fc2 = nn.Linear(hidden_size1, hidden_size2)\n",
    "        self.fc3 = nn.Linear(hidden_size2, num_classes)  # Output layer size = num_classes\n",
    "\n",
    "    def forward(self, x):\n",
    "        x = self.flatten(x)\n",
    "        x = self.relu(self.fc1(x))\n",
    "        x = self.relu(self.fc2(x))\n",
    "        x = self.fc3(x)\n",
    "        return x\n",
    "\n",
    "\n",
    "\n",
    "# Create the MLP model instance (adjust hidden sizes as needed for desired parameter count)\n",
    "input_size = image_size * image_size * 3  # Calculate input size based on image dimensions\n",
    "hidden_size1 = 4096  # Example hidden size, adjust as needed\n",
    "hidden_size2 = 2048 # Example hidden size, adjust as needed\n",
    "model = LargeMLP(input_size, hidden_size1, hidden_size2, num_classes).to(device)\n",
    "\n",
    "\n",
    "\n",
    "# Loss function and optimizer\n",
    "criterion = nn.CrossEntropyLoss()\n",
    "optimizer = optim.Adam(model.parameters(), lr=learning_rate)\n",
    "\n",
    "\n",
    "# TensorBoard writer\n",
    "#writer = SummaryWriter()\n",
    "\n",
    "\n",
    "# Training loop\n",
    "for epoch in range(num_epochs):\n",
    "    for i, (inputs, labels) in enumerate(dataloaders['train']):\n",
    "        inputs = inputs.to(device)\n",
    "        labels = labels.to(device)\n",
    "\n",
    "        # Zero the parameter gradients\n",
    "        optimizer.zero_grad()\n",
    "\n",
    "        # Forward pass\n",
    "        outputs = model(inputs)\n",
    "        loss = criterion(outputs, labels)\n",
    "\n",
    "\n",
    "        # Backward pass and optimize\n",
    "        loss.backward()\n",
    "        optimizer.step()\n",
    "\n",
    "        print(loss.item())\n",
    "\n",
    "\n",
    "\n",
    "        # TensorBoard logging (loss per iteration)\n",
    "        #writer.add_scalar('Training Loss/iterations', loss.item(), epoch * len(dataloaders['train']) + i)\n",
    "\n",
    "\n",
    "# ... (Add test evaluation and logging as in previous examples)\n",
    "\n",
    "\n",
    "#writer.close()"
   ]
  },
  {
   "cell_type": "code",
   "execution_count": null,
   "metadata": {},
   "outputs": [],
   "source": []
  }
 ],
 "metadata": {
  "kernelspec": {
   "display_name": "Python 3",
   "language": "python",
   "name": "python3"
  },
  "language_info": {
   "codemirror_mode": {
    "name": "ipython",
    "version": 3
   },
   "file_extension": ".py",
   "mimetype": "text/x-python",
   "name": "python",
   "nbconvert_exporter": "python",
   "pygments_lexer": "ipython3",
   "version": "3.11.7"
  }
 },
 "nbformat": 4,
 "nbformat_minor": 2
}
